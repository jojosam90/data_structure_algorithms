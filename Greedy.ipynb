{
  "cells": [
    {
      "cell_type": "markdown",
      "metadata": {
        "id": "view-in-github",
        "colab_type": "text"
      },
      "source": [
        "<a href=\"https://colab.research.google.com/github/jojosam90/data_structure_algorithms/blob/main/Greedy.ipynb\" target=\"_parent\"><img src=\"https://colab.research.google.com/assets/colab-badge.svg\" alt=\"Open In Colab\"/></a>"
      ]
    },
    {
      "cell_type": "markdown",
      "source": [
        "**Greedy**"
      ],
      "metadata": {
        "id": "oG184OvpU6bc"
      }
    },
    {
      "cell_type": "code",
      "source": [
        "# Jump Game (Medium)\n",
        "\n",
        "# Input: nums = [2,3,1,1,4]\n",
        "# Output: true\n",
        "# Explanation: Jump 1 step from index 0 to 1, then 3 steps to the last index.\n",
        "\n",
        "class Solution:\n",
        "  def canJump(self, nums):\n",
        "    goal = len(nums)-1\n",
        "\n",
        "    for i in range(len(nums) -1, -1, -1): # backward; last index to begining\n",
        "       if i + nums[i] >= goal:\n",
        "         goal = i                    # to check whether can reach goal\n",
        "    return True if goal == 0 else False\n",
        "\n",
        "# shift goal from end to front\n",
        "\n",
        "# Complexity Analysis\n",
        "\n",
        "# Time complexity: O(n). Doing a single pass through the nums array, hence\n",
        "# n steps, where n is the length of array nums.\n",
        "# Space complexity: O(1). Not using any extra memory. \n"
      ],
      "metadata": {
        "id": "Sih6DREwVA1W"
      },
      "execution_count": null,
      "outputs": []
    },
    {
      "cell_type": "code",
      "source": [
        "# Jump Game 2 (Medium)\n",
        "\n",
        "# Input: nums = [2,3,1,1,4]\n",
        "# Output: true\n",
        "# Explanation: Jump 1 step from index 0 to 1, then 3 steps to the last index.\n",
        "\n",
        "class Solution:\n",
        "  def jump(self,nums):\n",
        "    l = 0\n",
        "    r = 0\n",
        "    res = 0\n",
        "    while r < (len(nums)-1):\n",
        "        maxJump = 0\n",
        "        for i in range(l, r+1):\n",
        "            maxJump = max(maxJump, I + nums[i])\n",
        "        l = r+ 1\n",
        "        r = maxJump \n",
        "        res += 1\n",
        "    return res\n",
        "\n",
        "# Complexity Analysis\n",
        "\n",
        "# Time complexity: O(n). visit each element in the array only once\n",
        "# Space complexity: O(1). do not use any additional data structures.\n"
      ],
      "metadata": {
        "id": "eE8enOBqjeKw"
      },
      "execution_count": null,
      "outputs": []
    }
  ],
  "metadata": {
    "colab": {
      "collapsed_sections": [],
      "name": "Welcome To Colaboratory",
      "provenance": [],
      "include_colab_link": true
    },
    "kernelspec": {
      "display_name": "Python 3",
      "name": "python3"
    }
  },
  "nbformat": 4,
  "nbformat_minor": 0
}