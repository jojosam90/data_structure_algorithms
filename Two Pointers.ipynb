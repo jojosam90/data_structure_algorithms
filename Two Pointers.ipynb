{
  "cells": [
    {
      "cell_type": "markdown",
      "metadata": {
        "id": "view-in-github",
        "colab_type": "text"
      },
      "source": [
        "<a href=\"https://colab.research.google.com/github/jojosam90/data_structure_algorithms/blob/main/Two%20Pointers.ipynb\" target=\"_parent\"><img src=\"https://colab.research.google.com/assets/colab-badge.svg\" alt=\"Open In Colab\"/></a>"
      ]
    },
    {
      "cell_type": "markdown",
      "source": [
        "**Two Pointers**"
      ],
      "metadata": {
        "id": "myMwaQc4KpZx"
      }
    },
    {
      "cell_type": "code",
      "source": [
        "# Valid Palindrome (Easy)\n",
        "# Input: s = \"A man, a plan, a canal: Panama\"\n",
        "# Output: true\n",
        "# Explanation: \"amanaplanacanalpanama\" is a palindrome.\n",
        "\n",
        "class Solution:\n",
        "    def isPalindrome(self, s: str) -> bool:\n",
        "        l, r = 0, len(s) - 1\n",
        "        while l < r:\n",
        "            while l < r and not self.alphanum(s[l]):\n",
        "                l += 1\n",
        "            while l < r and not self.alphanum(s[r]):\n",
        "                r -= 1\n",
        "            if s[l].lower() != s[r].lower():\n",
        "                return False\n",
        "            l += 1\n",
        "            r -= 1\n",
        "        return True\n",
        "\n",
        "    # Could write own alpha-numeric function\n",
        "    def alphanum(self, c):\n",
        "        return (\n",
        "            ord(\"A\") <= ord(c) <= ord(\"Z\")\n",
        "            or ord(\"a\") <= ord(c) <= ord(\"z\")\n",
        "            or ord(\"0\") <= ord(c) <= ord(\"9\")\n",
        "        )"
      ],
      "metadata": {
        "id": "Dx5ZNhgsKECT"
      },
      "execution_count": null,
      "outputs": []
    },
    {
      "cell_type": "code",
      "source": [
        "# Two Sum II (Medium)\n",
        "\n",
        "# Input: numbers = [2,7,11,15], target = 9\n",
        "# Output: [1,2]\n",
        "# Explanation: The sum of 2 and 7 is 9. Therefore, index1 = 1, index2 = 2. We return [1, 2].\n",
        "\n",
        "class Solution:\n",
        "    def twoSum(self, numbers: List[int], target: int) -> List[int]:\n",
        "        l, r = 0, len(numbers) - 1\n",
        "\n",
        "        while l < r:\n",
        "            curSum = numbers[l] + numbers[r]\n",
        "\n",
        "            if curSum > target:\n",
        "                r -= 1\n",
        "            elif curSum < target:\n",
        "                l += 1\n",
        "            else:\n",
        "                return [l + 1, r + 1]"
      ],
      "metadata": {
        "id": "PcZ36_HqeMWG"
      },
      "execution_count": null,
      "outputs": []
    },
    {
      "cell_type": "code",
      "source": [
        "# 3Sum  (Medium)\n",
        "\n",
        "# Input: nums = [-1,0,1,2,-1,-4]\n",
        "# Output: [[-1,-1,2],[-1,0,1]]\n",
        "# Explanation: \n",
        "# nums[0] + nums[1] + nums[2] = (-1) + 0 + 1 = 0.\n",
        "# nums[1] + nums[2] + nums[4] = 0 + 1 + (-1) = 0.\n",
        "# nums[0] + nums[3] + nums[4] = (-1) + 2 + (-1) = 0.\n",
        "# The distinct triplets are [-1,0,1] and [-1,-1,2].\n",
        "# Notice that the order of the output and the order of the triplets does not matter.\n",
        "\n",
        "class Solution:\n",
        "    def threeSum(self, nums: List[int]) -> List[List[int]]:\n",
        "        res = []\n",
        "        nums.sort()\n",
        "\n",
        "        for i, a in enumerate(nums):\n",
        "            if i > 0 and a == nums[i - 1]:\n",
        "                continue\n",
        "\n",
        "            l, r = i + 1, len(nums) - 1\n",
        "            while l < r:\n",
        "                threeSum = a + nums[l] + nums[r]\n",
        "                if threeSum > 0:\n",
        "                    r -= 1\n",
        "                elif threeSum < 0:\n",
        "                    l += 1\n",
        "                else:\n",
        "                    res.append([a, nums[l], nums[r]])\n",
        "                    l += 1\n",
        "                    while nums[l] == nums[l - 1] and l < r:\n",
        "                        l += 1\n",
        "        return res"
      ],
      "metadata": {
        "id": "L1YeeiZ06E4E"
      },
      "execution_count": null,
      "outputs": []
    }
  ],
  "metadata": {
    "colab": {
      "collapsed_sections": [],
      "name": "Welcome To Colaboratory",
      "provenance": [],
      "include_colab_link": true
    },
    "kernelspec": {
      "display_name": "Python 3",
      "name": "python3"
    }
  },
  "nbformat": 4,
  "nbformat_minor": 0
}