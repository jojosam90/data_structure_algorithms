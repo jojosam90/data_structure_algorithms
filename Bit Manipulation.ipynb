{
  "cells": [
    {
      "cell_type": "markdown",
      "metadata": {
        "id": "view-in-github",
        "colab_type": "text"
      },
      "source": [
        "<a href=\"https://colab.research.google.com/github/jojosam90/data_structure_algorithms/blob/main/Bit%20Manipulation.ipynb\" target=\"_parent\"><img src=\"https://colab.research.google.com/assets/colab-badge.svg\" alt=\"Open In Colab\"/></a>"
      ]
    },
    {
      "cell_type": "markdown",
      "source": [
        "**Bit Manipulation**"
      ],
      "metadata": {
        "id": "oG184OvpU6bc"
      }
    },
    {
      "cell_type": "code",
      "source": [
        "# Single Number (Easy)\n",
        "\n",
        "# Find that single one\n",
        "# Input: nums = [2,2,1]\n",
        "# Output: 1\n",
        "\n",
        "# Input: nums = [4,1,2,1,2]\n",
        "# Output: 4\n",
        "\n",
        "# Input: nums = [1]\n",
        "# Output: 1\n",
        "\n",
        "\n",
        "# Approach 1: List operation\n",
        "# Iterate over all the elements in \\text{nums}nums\n",
        "# If some number in \\text{nums}nums is new to array, append it\n",
        "# If some number is already in the array, remove it\n",
        "\n",
        "class Solution(object):\n",
        "    def singleNumber(self,nums):\n",
        "        no_duplicate_list = []\n",
        "\n",
        "        for i in nums:\n",
        "          if i not in no_duplicate_list:\n",
        "            no_duplicate_list.append(i)\n",
        "          else:\n",
        "            no_duplicate_list.remove(i)\n",
        "        return no_duplicate_list.pop()\n",
        "\n",
        "# Complexity Analysis\n",
        "\n",
        "# Time complexity: O(n^2). Iterate through nums taking O(n) time. Search the whole list\n",
        "# to find whether there is a duplicate number taking O(n) time. Because search is in the \n",
        "# for loop, we have to mutiple both time which is O(n^2).\n",
        "# Space complexity: O(n). Need a list of size n to contain elements in nums.\n",
        "#---------------------------------------------------------------------------------------------\n",
        "\n",
        "# Approach 2: Hash Table\n",
        "# We use hash table to avoid the O(n)O(n) time required for searching the elements.\n",
        "# Iterate through all elements in nums and set up key/value pair.\n",
        "# Return the element which appeared only once.\n",
        "\n",
        "from collections import defaultdict\n",
        "class Solution:\n",
        "    def singleNumber(self, nums):\n",
        "      hash_table = defaultdict(int)\n",
        "      for i in nums:\n",
        "        hash_table[i] +=1\n",
        "\n",
        "      for i in hash_table:\n",
        "        if hash_table[i] == 1:\n",
        "            return i\n",
        "\n",
        "# Complexity Analysis\n",
        "\n",
        "# Time complexity: O(n). Time complexity of for loop is O(n). \n",
        "# Time complexity of hash table(dictionary in python) operation pop is O(1).\n",
        "# Space complexity: O(n). The space required by hash_table is equal to the number of \n",
        "# elements in nums.\n"
      ],
      "metadata": {
        "id": "Sih6DREwVA1W"
      },
      "execution_count": null,
      "outputs": []
    },
    {
      "cell_type": "code",
      "source": [
        "# Number of 1 Bits (Easy)\n",
        "\n",
        "# Input: n = 00000000000000000000000000001011\n",
        "# Output: 3\n",
        "\n",
        "class Solution:\n",
        "    def hammingWeight(self,n):\n",
        "      res = 0\n",
        "      while n:\n",
        "        n &= n-1\n",
        "        res +=1\n",
        "      return res\n",
        "\n",
        "# Complexity Analysis\n",
        "\n",
        "# The run time depends on the number of 11-bits in nn.\n",
        "#  In the worst case, all bits in nn are 11-bits.\n",
        "#  In case of a 32-bit integer, the run time is O(1).\n",
        "\n",
        "# The space complexity is O(1), since no additional space is allocated."
      ],
      "metadata": {
        "id": "x0TsfTbMYe2T"
      },
      "execution_count": null,
      "outputs": []
    }
  ],
  "metadata": {
    "colab": {
      "collapsed_sections": [],
      "name": "Welcome To Colaboratory",
      "provenance": [],
      "include_colab_link": true
    },
    "kernelspec": {
      "display_name": "Python 3",
      "name": "python3"
    }
  },
  "nbformat": 4,
  "nbformat_minor": 0
}