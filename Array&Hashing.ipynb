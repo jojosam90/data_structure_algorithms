{
  "cells": [
    {
      "cell_type": "markdown",
      "metadata": {
        "id": "view-in-github",
        "colab_type": "text"
      },
      "source": [
        "<a href=\"https://colab.research.google.com/github/jojosam90/data_structure_algorithms/blob/main/Array%26Hashing.ipynb\" target=\"_parent\"><img src=\"https://colab.research.google.com/assets/colab-badge.svg\" alt=\"Open In Colab\"/></a>"
      ]
    },
    {
      "cell_type": "markdown",
      "source": [
        "**Arrays & Hashing**"
      ],
      "metadata": {
        "id": "myMwaQc4KpZx"
      }
    },
    {
      "cell_type": "code",
      "source": [
        "# Contains Duplicate\n",
        "# Given an integer array nums, return true if any value appears at least twice in the array, and return false if every element is distinct.\n",
        "\n",
        "# Input: nums = [1,2,3,1]\n",
        "# Output: true\n",
        "\n",
        "class Solution:\n",
        "    def containsDuplicate(self,nums):\n",
        "      hashset = set()\n",
        "      \n",
        "      for n in nums:\n",
        "        if n in hashset:\n",
        "          return True\n",
        "        hashset.add(n)\n",
        "      return False "
      ],
      "metadata": {
        "id": "Dx5ZNhgsKECT"
      },
      "execution_count": null,
      "outputs": []
    },
    {
      "cell_type": "code",
      "source": [
        "# Valid Anagram\n",
        "# Given two strings s and t, return true if t is an anagram of s, and false otherwise.\n",
        "\n",
        "# Example 1:\n",
        "# Input: s = \"anagram\", t = \"nagaram\"\n",
        "# Output: true\n",
        "\n",
        "# Example 2:\n",
        "# Input: s = \"rat\", t = \"car\"\n",
        "# Output: false\n",
        "\n",
        "class Solution:\n",
        "    def isAnagram(self,s,t):\n",
        "      if len(s) != len(t):\n",
        "        return False\n",
        "      \n",
        "      countS, countT = {}, {}\n",
        "      \n",
        "      for i in range(len(s)):\n",
        "          countS[s[i]] = 1 + countS.get(s[i],0)\n",
        "          countT[t[i]] = 1 + countT.get(t[i],0)\n",
        "      return countS == countT"
      ],
      "metadata": {
        "id": "cqPST79WK0C_"
      },
      "execution_count": null,
      "outputs": []
    },
    {
      "cell_type": "code",
      "source": [
        "# Two Sum\n",
        "# Given an array of integers nums and an integer target, return indices of the two numbers such that they add up to target.\n",
        "\n",
        "# Input: nums = [2,7,11,15], target = 9\n",
        "# Output: [0,1]\n",
        "# Explanation: Because nums[0] + nums[1] == 9, we return [0, 1].\n",
        "\n",
        "class Solution:\n",
        "    def twoSum(self,nums,target):\n",
        "      prevMap={}\n",
        "\n",
        "      for i, n in enumerate(nums):\n",
        "        diff = target - n\n",
        "        if diff in prevMap:\n",
        "          return [prevMap[diff],i]\n",
        "        prevMap[n] = i "
      ],
      "metadata": {
        "id": "JMs4Vi2qWH9Z"
      },
      "execution_count": null,
      "outputs": []
    },
    {
      "cell_type": "code",
      "source": [
        "# Group Anagrams\n",
        "# Given an array of strings strs, group the anagrams together. You can return the answer in any order.\n",
        "\n",
        "# Input: strs = [\"eat\",\"tea\",\"tan\",\"ate\",\"nat\",\"bat\"]\n",
        "# Output: [[\"bat\"],[\"nat\",\"tan\"],[\"ate\",\"eat\",\"tea\"]]\n",
        "\n",
        "class Solution:\n",
        "    def groupAnagrams(self,strs):\n",
        "      hashmap = defaultdict(list)\n",
        "      for s in strs:\n",
        "        hashmap[str(sorted(s))].append(s)\n",
        "      return hashmap.values()"
      ],
      "metadata": {
        "id": "TIdCnmnFXl3A"
      },
      "execution_count": null,
      "outputs": []
    },
    {
      "cell_type": "code",
      "source": [
        "# Top K Frequent Elements\n",
        "# Given an integer array nums and an integer k, return the k most frequent elements. You may return the answer in any order.\n",
        "\n",
        "# Input: nums = [1,1,1,2,2,3], k = 2\n",
        "# Output: [1,2]\n",
        "\n",
        "class Solution:\n",
        "    def topKFrequent(self,nums,k):\n",
        "      count = {}\n",
        "      freq = [[]for i in range(len(nums)+1)]\n",
        "      \n",
        "      for n in nums:\n",
        "        count[n] = 1 + count.get(n,0)\n",
        "      for n,c in count.items():\n",
        "        freq[c].append(n)\n",
        "      \n",
        "      res =[]\n",
        "      for i in range (len(freq) -1,0,-1):\n",
        "         for n in freq[i]:\n",
        "           res.append(n)\n",
        "         if len(res) == k:\n",
        "           return res"
      ],
      "metadata": {
        "id": "Ulv7-DyhZRzR"
      },
      "execution_count": null,
      "outputs": []
    },
    {
      "cell_type": "code",
      "source": [
        ""
      ],
      "metadata": {
        "id": "VkVC1yEcaqjV"
      },
      "execution_count": null,
      "outputs": []
    }
  ],
  "metadata": {
    "colab": {
      "collapsed_sections": [],
      "name": "Welcome To Colaboratory",
      "provenance": [],
      "include_colab_link": true
    },
    "kernelspec": {
      "display_name": "Python 3",
      "name": "python3"
    }
  },
  "nbformat": 4,
  "nbformat_minor": 0
}