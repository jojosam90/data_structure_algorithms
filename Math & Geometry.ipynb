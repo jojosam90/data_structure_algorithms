{
  "cells": [
    {
      "cell_type": "markdown",
      "metadata": {
        "id": "view-in-github",
        "colab_type": "text"
      },
      "source": [
        "<a href=\"https://colab.research.google.com/github/jojosam90/data_structure_algorithms/blob/main/Math%20%26%20Geometry.ipynb\" target=\"_parent\"><img src=\"https://colab.research.google.com/assets/colab-badge.svg\" alt=\"Open In Colab\"/></a>"
      ]
    },
    {
      "cell_type": "markdown",
      "source": [
        "**Math & Geometry**"
      ],
      "metadata": {
        "id": "oG184OvpU6bc"
      }
    },
    {
      "cell_type": "code",
      "source": [
        "# Happy Number (Easy)\n",
        "\n",
        "# Input: n = 19\n",
        "# Output: true (happy ends in 1)\n",
        "# Explanation:\n",
        "# 1^2 + 9^2 = 82\n",
        "# 8^2 + 2^2 = 68\n",
        "# 6^2 + 8^2 = 100\n",
        "# 1^2 + 0^2 + 0^2 = 1\n",
        "\n",
        "def isHappy(self,n):\n",
        "    def get_next(n):\n",
        "      total_sum = 0\n",
        "      while n > 0:\n",
        "        n, digit = divmod(n,10)\n",
        "        total_sum += digit ** 2\n",
        "      return total_sum\n",
        "    \n",
        "    seen = set()\n",
        "    while n !=1 and n not in seen:\n",
        "      seen.add(n)\n",
        "      n = get_next(n)\n",
        "    return n ==1\n",
        "\n",
        "# Complexity Analysis\n",
        "\n",
        "# Time complexity: O(log n). \n",
        "# Space complexity: O(log n). \n"
      ],
      "metadata": {
        "id": "Sih6DREwVA1W"
      },
      "execution_count": null,
      "outputs": []
    }
  ],
  "metadata": {
    "colab": {
      "collapsed_sections": [],
      "name": "Welcome To Colaboratory",
      "provenance": [],
      "include_colab_link": true
    },
    "kernelspec": {
      "display_name": "Python 3",
      "name": "python3"
    }
  },
  "nbformat": 4,
  "nbformat_minor": 0
}