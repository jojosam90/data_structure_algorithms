{
  "cells": [
    {
      "cell_type": "markdown",
      "metadata": {
        "id": "view-in-github",
        "colab_type": "text"
      },
      "source": [
        "<a href=\"https://colab.research.google.com/github/jojosam90/data_structure_algorithms/blob/main/revise.ipynb\" target=\"_parent\"><img src=\"https://colab.research.google.com/assets/colab-badge.svg\" alt=\"Open In Colab\"/></a>"
      ]
    },
    {
      "cell_type": "markdown",
      "source": [
        "**Array**"
      ],
      "metadata": {
        "id": "ABkYg1yqzolc"
      }
    },
    {
      "cell_type": "code",
      "source": [
        "# Merge Two Sorted Lists (Easy)\n",
        "# Input: list1 = [1,2,4], list2 = [1,3,4]\n",
        "# Output: [1,1,2,3,4,4]\n",
        "\n",
        "class ListNode:\n",
        "    def __init__(self, val=0, next=None):\n",
        "        self.val = val\n",
        "        self.next = next\n",
        "        \n",
        "class Solution:\n",
        "    def mergeTwoLists(self, l1: ListNode, l2: ListNode) -> ListNode:\n",
        "        dummy = ListNode()\n",
        "        tail = dummy\n",
        "\n",
        "        while l1 and l2:\n",
        "            if l1.val < l2.val:\n",
        "                tail.next = l1\n",
        "                l1 = l1.next\n",
        "            else:\n",
        "                tail.next = l2\n",
        "                l2 = l2.next\n",
        "            tail = tail.next\n",
        "\n",
        "        if l1:\n",
        "            tail.next = l1\n",
        "        elif l2:\n",
        "            tail.next = l2\n",
        "\n",
        "        return dummy.next"
      ],
      "metadata": {
        "id": "jl4lzJ1Hzqcv"
      },
      "execution_count": null,
      "outputs": []
    },
    {
      "cell_type": "markdown",
      "source": [
        "**Binary Tree Postorder Traversal**"
      ],
      "metadata": {
        "id": "EX3agAxKzwfe"
      }
    },
    {
      "cell_type": "code",
      "source": [
        "# Binary Tree Level Order Traversal (Medium)\n",
        "# from left to right, level by level\n",
        "Input: root = [3,9,20,null,null,15,7]\n",
        "Output: [[3],[9,20],[15,7]]\n",
        "\n",
        "class TreeNode:\n",
        "    def __init__(self, x):\n",
        "        self.val = x\n",
        "        self.left = None\n",
        "        self.right = None\n",
        "\n",
        "class Solution:\n",
        "    def levelOrder(self, root: TreeNode) -> List[List[int]]:\n",
        "        res = []\n",
        "        q = collections.deque()\n",
        "        if root:\n",
        "            q.append(root)\n",
        "\n",
        "        while q:\n",
        "            val = []\n",
        "\n",
        "            for i in range(len(q)):\n",
        "                node = q.popleft()\n",
        "                val.append(node.val)\n",
        "                if node.left:\n",
        "                    q.append(node.left)\n",
        "                if node.right:\n",
        "                    q.append(node.right)\n",
        "            res.append(val)\n",
        "        return res"
      ],
      "metadata": {
        "id": "lN4NnR5Rz8mX"
      },
      "execution_count": null,
      "outputs": []
    },
    {
      "cell_type": "markdown",
      "source": [
        "**Invert Binary Tree**"
      ],
      "metadata": {
        "id": "2b8T0H0n0fdA"
      }
    },
    {
      "cell_type": "code",
      "source": [
        "# Invert Binary Tree (Easy)\n",
        "\n",
        "# Input: root = [4,2,7,1,3,6,9]\n",
        "# Output: [4,7,2,9,6,3,1]\n",
        "\n",
        "class TreeNode:\n",
        "    def __init__(self, val=0, left=None, right=None):\n",
        "        self.val = val\n",
        "        self.left = left\n",
        "        self.right = right\n",
        "        \n",
        "class Solution:\n",
        "    def invertTree(self, root: TreeNode) -> TreeNode:\n",
        "        if not root:\n",
        "            return None\n",
        "\n",
        "        # swap the children\n",
        "        tmp = root.left\n",
        "        root.left = root.right\n",
        "        root.right = tmp\n",
        "\n",
        "        self.invertTree(root.left)\n",
        "        self.invertTree(root.right)\n",
        "        return root"
      ],
      "metadata": {
        "id": "Kv9G607F0Ilj"
      },
      "execution_count": null,
      "outputs": []
    },
    {
      "cell_type": "markdown",
      "source": [
        "**Symmetric Tree**"
      ],
      "metadata": {
        "id": "rpUg_kaP0Uto"
      }
    },
    {
      "cell_type": "code",
      "source": [
        "# Balanced Binary Tree(Easy)\n",
        "\n",
        "Input: root = [3,9,20,null,null,15,7]\n",
        "Output: true\n",
        "\n",
        "class TreeNode:\n",
        "    def __init__(self, val=0, left=None, right=None):\n",
        "        self.val = val\n",
        "        self.left = left\n",
        "        self.right = right\n",
        "        \n",
        "class Solution:\n",
        "    def isBalanced(self, root: Optional[TreeNode]) -> bool:\n",
        "        def dfs(root):\n",
        "            if not root:\n",
        "                return [True, 0]\n",
        "\n",
        "            left, right = dfs(root.left), dfs(root.right)\n",
        "            balanced = left[0] and right[0] and abs(left[1] - right[1]) <= 1\n",
        "            return [balanced, 1 + max(left[1], right[1])]\n",
        "\n",
        "        return dfs(root)[0]"
      ],
      "metadata": {
        "id": "Zl4-okGg0rHN"
      },
      "execution_count": null,
      "outputs": []
    },
    {
      "cell_type": "markdown",
      "source": [
        "**Reverse Linked List**"
      ],
      "metadata": {
        "id": "oDgTplk80tLD"
      }
    },
    {
      "cell_type": "code",
      "source": [
        "# Reverse Linked List (Easy)\n",
        "# Input: head = [1,2,3,4,5]\n",
        "# Output: [5,4,3,2,1]\n",
        "\n",
        "class ListNode:\n",
        "    def __init__(self, x):\n",
        "        self.val = x\n",
        "        self.next = None\n",
        "\n",
        "class Solution:\n",
        "    def reverseList(self, head: ListNode) -> ListNode:\n",
        "        prev, curr = None, head\n",
        "\n",
        "        while curr:\n",
        "            temp = curr.next\n",
        "            curr.next = prev\n",
        "            prev = curr\n",
        "            curr = temp\n",
        "        return prev"
      ],
      "metadata": {
        "id": "grGgVkEe0y-M"
      },
      "execution_count": null,
      "outputs": []
    },
    {
      "cell_type": "markdown",
      "source": [
        "Dynamic programming is a set of algorithms made to solve a problem by breaking it into smaller ones, named sub-problems."
      ],
      "metadata": {
        "id": "YIcFeFA11PW4"
      }
    },
    {
      "cell_type": "markdown",
      "source": [
        "A recursive function is an algorithm that recognizes when it is needed, it can be executed itself, and then stop working. So, when the function identifies the moment that it is needed, then it proceeds to call itself and it is executed"
      ],
      "metadata": {
        "id": "8eGRyk0Q1QTZ"
      }
    },
    {
      "cell_type": "markdown",
      "source": [
        "**Fibonacci Sequence**"
      ],
      "metadata": {
        "id": "9DErn5h91Svy"
      }
    },
    {
      "cell_type": "code",
      "source": [
        "class Solution:\n",
        "    def fib(self, N: int) -> int:\n",
        "        if N <= 1:\n",
        "            return N\n",
        "        return self.fib(N - 1) + self.fib(N - 2)"
      ],
      "metadata": {
        "id": "hUc_1tqL3DiJ"
      },
      "execution_count": null,
      "outputs": []
    },
    {
      "cell_type": "markdown",
      "source": [
        "**Bubble Sort** is the simplest sorting algorithm that works by repeatedly **swapping the adjacent elements if they are in the wrong order**. This algorithm is not suitable for large data sets as its average and worst-case time complexity is quite high.\n",
        "\n",
        "arr[] = {5, 1, 4, 2, 8}\n",
        "\n",
        "arr[] = {1, 2, 4, 5, 8}"
      ],
      "metadata": {
        "id": "XW4UFCph2IqZ"
      }
    },
    {
      "cell_type": "markdown",
      "source": [
        "**Selection sort** algorithm sorts an array by repeatedly **finding the minimum element (considering ascending order) from unsorted part and putting it at the beginning**. The algorithm maintains two subarrays in a given array.\n",
        "\n",
        "arr[] = {64, 25, 12, 22, 11}\n",
        "\n",
        "arr[] = {11, 12, 22, 25, 64}"
      ],
      "metadata": {
        "id": "JvLEVkVR2QDN"
      }
    },
    {
      "cell_type": "markdown",
      "source": [
        "**Insertion sort** is a simple sorting algorithm that **works similar to the way you sort playing cards in your hands**. The array is virtually split into a sorted and an unsorted part. \n",
        "\n",
        "arr[]: {12, 11, 13, 5, 6}\n",
        "\n",
        "arr[]: {5, 6, 11, 12, 13}"
      ],
      "metadata": {
        "id": "nYPJ3Xm027eK"
      }
    },
    {
      "cell_type": "markdown",
      "source": [
        "**Merge Sort algorithm** is a sorting algorithm that is considered an example of the divide and conquer strategy. So, **in this algorithm, the array is initially divided into two equal halves and then they are combined in a sorted manner.**\n",
        "\n",
        "arr[] = {38, 27, 43, 3, 9, 82, 10}\n",
        "\n",
        "arr[] = {3,9 , 10, 27, 38, 43, 82}"
      ],
      "metadata": {
        "id": "sD1L6mhM2ybT"
      }
    },
    {
      "cell_type": "code",
      "source": [
        "# Python program for implementation of MergeSort\n",
        "def mergeSort(arr):\n",
        "\tif len(arr) > 1:\n",
        "\n",
        "\t\t# Finding the mid of the array\n",
        "\t\tmid = len(arr)//2\n",
        "\n",
        "\t\t# Dividing the array elements\n",
        "\t\tL = arr[:mid]\n",
        "\n",
        "\t\t# into 2 halves\n",
        "\t\tR = arr[mid:]\n",
        "\n",
        "\t\t# Sorting the first half\n",
        "\t\tmergeSort(L)\n",
        "\n",
        "\t\t# Sorting the second half\n",
        "\t\tmergeSort(R)\n",
        "\n",
        "\t\ti = j = k = 0\n",
        "\n",
        "\t\t# Copy data to temp arrays L[] and R[]\n",
        "\t\twhile i < len(L) and j < len(R):\n",
        "\t\t\tif L[i] < R[j]:\n",
        "\t\t\t\tarr[k] = L[i]\n",
        "\t\t\t\ti += 1\n",
        "\t\t\telse:\n",
        "\t\t\t\tarr[k] = R[j]\n",
        "\t\t\t\tj += 1\n",
        "\t\t\tk += 1\n",
        "\n",
        "\t\t# Checking if any element was left\n",
        "\t\twhile i < len(L):\n",
        "\t\t\tarr[k] = L[i]\n",
        "\t\t\ti += 1\n",
        "\t\t\tk += 1\n",
        "\n",
        "\t\twhile j < len(R):\n",
        "\t\t\tarr[k] = R[j]\n",
        "\t\t\tj += 1\n",
        "\t\t\tk += 1\n",
        "\n",
        "# Code to print the list\n",
        "\n",
        "def printList(arr):\n",
        "\tfor i in range(len(arr)):\n",
        "\t\tprint(arr[i], end=\" \")\n",
        "\tprint()\n",
        "\n",
        "# Driver Code\n",
        "if __name__ == '__main__':\n",
        "\tarr = [12, 11, 13, 5, 6, 7]\n",
        "\tprint(\"Given array is\", end=\"\\n\")\n",
        "\tprintList(arr)\n",
        "\tmergeSort(arr)\n",
        "\tprint(\"Sorted array is: \", end=\"\\n\")\n",
        "\tprintList(arr)\n",
        "\n",
        "# This code is contributed by Mayank Khanna\n"
      ],
      "metadata": {
        "id": "L8zRQrHn4Qsj"
      },
      "execution_count": null,
      "outputs": []
    },
    {
      "cell_type": "markdown",
      "source": [
        "Merge Sort, **QuickSort **is a Divide and Conquer algorithm. It picks an element as a pivot and partitions the given array around the picked pivot. There are many different versions of quickSort that pick pivot in different ways. \n",
        "\n",
        "Always pick the first element as a pivot.\n",
        "Always pick the last element as a pivot (implemented below)\n",
        "Pick a random element as a pivot.\n",
        "Pick median as the pivot. "
      ],
      "metadata": {
        "id": "IFDtSelG4IYa"
      }
    },
    {
      "cell_type": "markdown",
      "source": [
        "**Heap sort** is a comparison-based sorting technique based on Binary Heap data structure. It is similar to selection sort where we first find the minimum element and place the minimum element at the beginning. We repeat the same process for the remaining elements."
      ],
      "metadata": {
        "id": "DAuhXYRz4jAh"
      }
    },
    {
      "cell_type": "markdown",
      "source": [
        "**Counting sort** is a sorting technique based on keys between a specific range. It works by **counting the number of objects having distinct key values (kind of hashing). Then do some arithmetic to calculate the position of each object in the output sequence. **"
      ],
      "metadata": {
        "id": "4tmEPcW142nt"
      }
    },
    {
      "cell_type": "markdown",
      "source": [
        "A phrase is a **palindrome** if, after **converting all uppercase letters into lowercase letters and removing all non-alphanumeric characters, it reads the same forward and backward.** Alphanumeric characters include letters and numbers."
      ],
      "metadata": {
        "id": "PuZyjQov8F2_"
      }
    }
  ],
  "metadata": {
    "colab": {
      "collapsed_sections": [],
      "name": "Welcome To Colaboratory",
      "provenance": [],
      "include_colab_link": true
    },
    "kernelspec": {
      "display_name": "Python 3",
      "name": "python3"
    }
  },
  "nbformat": 4,
  "nbformat_minor": 0
}