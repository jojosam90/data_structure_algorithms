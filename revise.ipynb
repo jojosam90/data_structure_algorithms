{
  "cells": [
    {
      "cell_type": "markdown",
      "metadata": {
        "id": "view-in-github",
        "colab_type": "text"
      },
      "source": [
        "<a href=\"https://colab.research.google.com/github/jojosam90/data_structure_algorithms/blob/main/revise.ipynb\" target=\"_parent\"><img src=\"https://colab.research.google.com/assets/colab-badge.svg\" alt=\"Open In Colab\"/></a>"
      ]
    },
    {
      "cell_type": "markdown",
      "source": [
        "**Array**"
      ],
      "metadata": {
        "id": "ABkYg1yqzolc"
      }
    },
    {
      "cell_type": "code",
      "source": [
        "# Merge Two Sorted Lists (Easy)\n",
        "# Input: list1 = [1,2,4], list2 = [1,3,4]\n",
        "# Output: [1,1,2,3,4,4]\n",
        "\n",
        "class ListNode:\n",
        "    def __init__(self, val=0, next=None):\n",
        "        self.val = val\n",
        "        self.next = next\n",
        "        \n",
        "class Solution:\n",
        "    def mergeTwoLists(self, l1: ListNode, l2: ListNode) -> ListNode:\n",
        "        dummy = ListNode()\n",
        "        tail = dummy\n",
        "\n",
        "        while l1 and l2:\n",
        "            if l1.val < l2.val:\n",
        "                tail.next = l1\n",
        "                l1 = l1.next\n",
        "            else:\n",
        "                tail.next = l2\n",
        "                l2 = l2.next\n",
        "            tail = tail.next\n",
        "\n",
        "        if l1:\n",
        "            tail.next = l1\n",
        "        elif l2:\n",
        "            tail.next = l2\n",
        "\n",
        "        return dummy.next"
      ],
      "metadata": {
        "id": "jl4lzJ1Hzqcv"
      },
      "execution_count": null,
      "outputs": []
    },
    {
      "cell_type": "markdown",
      "source": [
        "**Binary Tree Postorder Traversal**"
      ],
      "metadata": {
        "id": "EX3agAxKzwfe"
      }
    },
    {
      "cell_type": "code",
      "source": [
        "# Binary Tree Level Order Traversal (Medium)\n",
        "# from left to right, level by level\n",
        "Input: root = [3,9,20,null,null,15,7]\n",
        "Output: [[3],[9,20],[15,7]]\n",
        "\n",
        "class TreeNode:\n",
        "    def __init__(self, x):\n",
        "        self.val = x\n",
        "        self.left = None\n",
        "        self.right = None\n",
        "\n",
        "class Solution:\n",
        "    def levelOrder(self, root: TreeNode) -> List[List[int]]:\n",
        "        res = []\n",
        "        q = collections.deque()\n",
        "        if root:\n",
        "            q.append(root)\n",
        "\n",
        "        while q:\n",
        "            val = []\n",
        "\n",
        "            for i in range(len(q)):\n",
        "                node = q.popleft()\n",
        "                val.append(node.val)\n",
        "                if node.left:\n",
        "                    q.append(node.left)\n",
        "                if node.right:\n",
        "                    q.append(node.right)\n",
        "            res.append(val)\n",
        "        return res"
      ],
      "metadata": {
        "id": "lN4NnR5Rz8mX"
      },
      "execution_count": null,
      "outputs": []
    },
    {
      "cell_type": "markdown",
      "source": [
        "**Invert Binary Tree**"
      ],
      "metadata": {
        "id": "2b8T0H0n0fdA"
      }
    },
    {
      "cell_type": "code",
      "source": [
        "# Invert Binary Tree (Easy)\n",
        "\n",
        "# Input: root = [4,2,7,1,3,6,9]\n",
        "# Output: [4,7,2,9,6,3,1]\n",
        "\n",
        "class TreeNode:\n",
        "    def __init__(self, val=0, left=None, right=None):\n",
        "        self.val = val\n",
        "        self.left = left\n",
        "        self.right = right\n",
        "        \n",
        "class Solution:\n",
        "    def invertTree(self, root: TreeNode) -> TreeNode:\n",
        "        if not root:\n",
        "            return None\n",
        "\n",
        "        # swap the children\n",
        "        tmp = root.left\n",
        "        root.left = root.right\n",
        "        root.right = tmp\n",
        "\n",
        "        self.invertTree(root.left)\n",
        "        self.invertTree(root.right)\n",
        "        return root"
      ],
      "metadata": {
        "id": "Kv9G607F0Ilj"
      },
      "execution_count": null,
      "outputs": []
    },
    {
      "cell_type": "markdown",
      "source": [
        "**Symmetric Tree**"
      ],
      "metadata": {
        "id": "rpUg_kaP0Uto"
      }
    },
    {
      "cell_type": "code",
      "source": [
        "# Balanced Binary Tree(Easy)\n",
        "\n",
        "Input: root = [3,9,20,null,null,15,7]\n",
        "Output: true\n",
        "\n",
        "class TreeNode:\n",
        "    def __init__(self, val=0, left=None, right=None):\n",
        "        self.val = val\n",
        "        self.left = left\n",
        "        self.right = right\n",
        "        \n",
        "class Solution:\n",
        "    def isBalanced(self, root: Optional[TreeNode]) -> bool:\n",
        "        def dfs(root):\n",
        "            if not root:\n",
        "                return [True, 0]\n",
        "\n",
        "            left, right = dfs(root.left), dfs(root.right)\n",
        "            balanced = left[0] and right[0] and abs(left[1] - right[1]) <= 1\n",
        "            return [balanced, 1 + max(left[1], right[1])]\n",
        "\n",
        "        return dfs(root)[0]"
      ],
      "metadata": {
        "id": "Zl4-okGg0rHN"
      },
      "execution_count": null,
      "outputs": []
    },
    {
      "cell_type": "markdown",
      "source": [
        "**Reverse Linked List**"
      ],
      "metadata": {
        "id": "oDgTplk80tLD"
      }
    },
    {
      "cell_type": "code",
      "source": [
        "# Reverse Linked List (Easy)\n",
        "# Input: head = [1,2,3,4,5]\n",
        "# Output: [5,4,3,2,1]\n",
        "\n",
        "class ListNode:\n",
        "    def __init__(self, x):\n",
        "        self.val = x\n",
        "        self.next = None\n",
        "\n",
        "class Solution:\n",
        "    def reverseList(self, head: ListNode) -> ListNode:\n",
        "        prev, curr = None, head\n",
        "\n",
        "        while curr:\n",
        "            temp = curr.next\n",
        "            curr.next = prev\n",
        "            prev = curr\n",
        "            curr = temp\n",
        "        return prev"
      ],
      "metadata": {
        "id": "grGgVkEe0y-M"
      },
      "execution_count": null,
      "outputs": []
    },
    {
      "cell_type": "markdown",
      "source": [
        "Dynamic programming is a set of algorithms made to solve a problem by breaking it into smaller ones, named sub-problems."
      ],
      "metadata": {
        "id": "YIcFeFA11PW4"
      }
    },
    {
      "cell_type": "markdown",
      "source": [
        "A recursive function is an algorithm that recognizes when it is needed, it can be executed itself, and then stop working. So, when the function identifies the moment that it is needed, then it proceeds to call itself and it is executed"
      ],
      "metadata": {
        "id": "8eGRyk0Q1QTZ"
      }
    },
    {
      "cell_type": "markdown",
      "source": [
        ""
      ],
      "metadata": {
        "id": "9DErn5h91Svy"
      }
    }
  ],
  "metadata": {
    "colab": {
      "collapsed_sections": [],
      "name": "Welcome To Colaboratory",
      "toc_visible": true,
      "provenance": [],
      "include_colab_link": true
    },
    "kernelspec": {
      "display_name": "Python 3",
      "name": "python3"
    }
  },
  "nbformat": 4,
  "nbformat_minor": 0
}