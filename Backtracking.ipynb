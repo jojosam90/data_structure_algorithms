{
  "cells": [
    {
      "cell_type": "markdown",
      "metadata": {
        "id": "view-in-github",
        "colab_type": "text"
      },
      "source": [
        "<a href=\"https://colab.research.google.com/github/jojosam90/data_structure_algorithms/blob/main/Backtracking.ipynb\" target=\"_parent\"><img src=\"https://colab.research.google.com/assets/colab-badge.svg\" alt=\"Open In Colab\"/></a>"
      ]
    },
    {
      "cell_type": "markdown",
      "source": [
        "**Backtracking**\n",
        "\n",
        "\n"
      ],
      "metadata": {
        "id": "myMwaQc4KpZx"
      }
    },
    {
      "cell_type": "code",
      "source": [
        "# Subsets (Medium)\n",
        "\n",
        "# Input: nums = [1,2,3]\n",
        "# Output: [[],[1],[2],[1,2],[3],[1,3],[2,3],[1,2,3]]\n",
        "\n",
        "class Solution:\n",
        "    def subsets(self, nums: List[int]) -> List[List[int]]:\n",
        "        res = []\n",
        "\n",
        "        subset = []\n",
        "\n",
        "        def dfs(i):\n",
        "            if i >= len(nums):\n",
        "                res.append(subset.copy())\n",
        "                return\n",
        "            # decision to include nums[i]\n",
        "            subset.append(nums[i])\n",
        "            dfs(i + 1)\n",
        "            # decision NOT to include nums[i]\n",
        "            subset.pop()\n",
        "            dfs(i + 1)\n",
        "\n",
        "        dfs(0)\n",
        "        return res"
      ],
      "metadata": {
        "id": "Dx5ZNhgsKECT"
      },
      "execution_count": null,
      "outputs": []
    },
    {
      "cell_type": "code",
      "source": [
        "# Word Search (Medium)\n",
        "\n",
        "# Input: board = [[\"A\",\"B\",\"C\",\"E\"],[\"S\",\"F\",\"C\",\"S\"],[\"A\",\"D\",\"E\",\"E\"]], word = \"ABCCED\"\n",
        "# Output: true\n",
        "\n",
        "class Solution:\n",
        "    def exist(self, board: List[List[str]], word: str) -> bool:\n",
        "        ROWS, COLS = len(board), len(board[0])\n",
        "        path = set()\n",
        "\n",
        "        def dfs(r, c, i):\n",
        "            if i == len(word):\n",
        "                return True\n",
        "            if (\n",
        "                min(r, c) < 0\n",
        "                or r >= ROWS\n",
        "                or c >= COLS\n",
        "                or word[i] != board[r][c]\n",
        "                or (r, c) in path\n",
        "            ):\n",
        "                return False\n",
        "            path.add((r, c))\n",
        "            res = (\n",
        "                dfs(r + 1, c, i + 1)\n",
        "                or dfs(r - 1, c, i + 1)\n",
        "                or dfs(r, c + 1, i + 1)\n",
        "                or dfs(r, c - 1, i + 1)\n",
        "            )\n",
        "            path.remove((r, c))\n",
        "            return res\n",
        "\n",
        "        for r in range(ROWS):\n",
        "            for c in range(COLS):\n",
        "                if dfs(r, c, 0):\n",
        "                    return True\n",
        "        return False\n",
        "\n",
        "    # O(n * m * 4^n)"
      ],
      "metadata": {
        "id": "57s76L-1MzHs"
      },
      "execution_count": null,
      "outputs": []
    }
  ],
  "metadata": {
    "colab": {
      "collapsed_sections": [],
      "name": "Welcome To Colaboratory",
      "provenance": [],
      "include_colab_link": true
    },
    "kernelspec": {
      "display_name": "Python 3",
      "name": "python3"
    }
  },
  "nbformat": 4,
  "nbformat_minor": 0
}