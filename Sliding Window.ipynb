{
  "cells": [
    {
      "cell_type": "markdown",
      "metadata": {
        "id": "view-in-github",
        "colab_type": "text"
      },
      "source": [
        "<a href=\"https://colab.research.google.com/github/jojosam90/data_structure_algorithms/blob/main/Sliding%20Window.ipynb\" target=\"_parent\"><img src=\"https://colab.research.google.com/assets/colab-badge.svg\" alt=\"Open In Colab\"/></a>"
      ]
    },
    {
      "cell_type": "markdown",
      "source": [
        "Sliding Window \n",
        "\n",
        "\n"
      ],
      "metadata": {
        "id": "myMwaQc4KpZx"
      }
    },
    {
      "cell_type": "code",
      "source": [
        "# Best Time to Buy and Sell Stock (Easy)\n",
        "# Input: prices = [7,1,5,3,6,4]\n",
        "# Output: 5\n",
        "# Explanation: Buy on day 2 (price = 1) and sell on day 5 (price = 6), profit = 6-1 = 5.\n",
        "# Note that buying on day 2 and selling on day 1 is not allowed because you must buy before you sell.\n",
        "\n",
        "class Solution:\n",
        "    def maxProfit(self, prices: List[int]) -> int:\n",
        "        res = 0\n",
        "\n",
        "        l = 0\n",
        "        for r in range(1, len(prices)):\n",
        "            if prices[r] < prices[l]:\n",
        "                l = r\n",
        "            res = max(res, prices[r] - prices[l])\n",
        "        return res"
      ],
      "metadata": {
        "id": "Dx5ZNhgsKECT"
      },
      "execution_count": null,
      "outputs": []
    },
    {
      "cell_type": "code",
      "source": [
        "# Longest Substring Without Repeating Characters (Medium)\n",
        "# Input: s = \"abcabcbb\"\n",
        "# Output: 3\n",
        "# Explanation: The answer is \"abc\", with the length of 3.\n",
        "\n",
        "class Solution:\n",
        "    def lengthOfLongestSubstring(self, s: str) -> int:\n",
        "        charSet = set()\n",
        "        l = 0\n",
        "        res = 0\n",
        "\n",
        "        for r in range(len(s)):\n",
        "            while s[r] in charSet:\n",
        "                charSet.remove(s[l])\n",
        "                l += 1\n",
        "            charSet.add(s[r])\n",
        "            res = max(res, r - l + 1)\n",
        "        return res"
      ],
      "metadata": {
        "id": "S6mxzr7D7TYO"
      },
      "execution_count": null,
      "outputs": []
    },
    {
      "cell_type": "code",
      "source": [
        "# Longest Repeating Character Replacement (Medium)\n",
        "# Input: s = \"ABAB\", k = 2\n",
        "# Output: 4\n",
        "# Explanation: Replace the two 'A's with two 'B's or vice versa.\n",
        "\n",
        "class Solution:\n",
        "    def characterReplacement(self, s: str, k: int) -> int:\n",
        "        count = {}\n",
        "        res = 0\n",
        "\n",
        "        l = 0\n",
        "        maxf = 0\n",
        "        for r in range(len(s)):\n",
        "            count[s[r]] = 1 + count.get(s[r], 0)\n",
        "            maxf = max(maxf, count[s[r]])\n",
        "\n",
        "            if (r - l + 1) - maxf > k:\n",
        "                count[s[l]] -= 1\n",
        "                l += 1\n",
        "\n",
        "            res = max(res, r - l + 1)\n",
        "        return res"
      ],
      "metadata": {
        "id": "ghsUkeG17e4B"
      },
      "execution_count": null,
      "outputs": []
    },
    {
      "cell_type": "code",
      "source": [
        ""
      ],
      "metadata": {
        "id": "I0i5e95i7rj3"
      },
      "execution_count": null,
      "outputs": []
    }
  ],
  "metadata": {
    "colab": {
      "collapsed_sections": [],
      "name": "Welcome To Colaboratory",
      "provenance": [],
      "include_colab_link": true
    },
    "kernelspec": {
      "display_name": "Python 3",
      "name": "python3"
    }
  },
  "nbformat": 4,
  "nbformat_minor": 0
}