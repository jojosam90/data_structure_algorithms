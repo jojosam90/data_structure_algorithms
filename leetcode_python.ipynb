{
  "cells": [
    {
      "cell_type": "markdown",
      "metadata": {
        "id": "view-in-github",
        "colab_type": "text"
      },
      "source": [
        "<a href=\"https://colab.research.google.com/github/jojosam90/data_structure_algorithms/blob/main/leetcode_python.ipynb\" target=\"_parent\"><img src=\"https://colab.research.google.com/assets/colab-badge.svg\" alt=\"Open In Colab\"/></a>"
      ]
    },
    {
      "cell_type": "code",
      "source": [
        "# Binary Search\n",
        "# Input: nums =[-1,0,3,5,9,12], target = 9\n",
        "# Output = 4\n",
        "\n",
        "nums =[-1,0,3,5,9,12]\n",
        "target = 9\n",
        "\n",
        "class Solution:\n",
        "  def search(self,nums,target) -> int:\n",
        "    for i, num in enumerate (nums):\n",
        "        if num == target:\n",
        "          return i \n",
        "    return -1\n",
        "\n",
        "\n",
        "class Solution:\n",
        "  def search(self,nums,target) -> int:\n",
        "    start = 0\n",
        "    end = len(nums)-1\n",
        "\n",
        "    while start <= end:\n",
        "      mid = (start + end) / 2\n",
        "      num = nums[mid]\n",
        "      if target == num:\n",
        "        return mid\n",
        "      elif target > num:\n",
        "        start = mid + 1\n",
        "      elif target < num:\n",
        "        end = mid - 1       \n",
        "      return -1 \n",
        "\n",
        "# time complexity : O(log N)\n",
        "# space complexity : O(1) constant space solution "
      ],
      "metadata": {
        "id": "vYw88bOr83gr"
      },
      "execution_count": null,
      "outputs": []
    },
    {
      "cell_type": "code",
      "source": [
        "# Longest Palindrome\n",
        "# Exmaple 1\n",
        "# Input : s = \"abccccdd\"\n",
        "# Output : 7\n",
        "\n",
        "# Exmaple 2\n",
        "# Input : s = \"a\"\n",
        "# Output : 1\n",
        "\n",
        "# Exmaple 3\n",
        "# Input : s = \"ccc\"\n",
        "# Output : 3\n",
        "\n",
        "class Solution:\n",
        "  def search(self,nums,target) -> int:\n",
        "    char_count={}\n",
        "    for char in s:\n",
        "      char_count[char] = char_count.get(char,0) + 1\n",
        "    \n",
        "    final_count = 0\n",
        "    odd_is_present = False\n",
        "    for char in char_count:\n",
        "        if char_count[char] % 2 ==0:\n",
        "            final_count += char_count[char]\n",
        "        else:\n",
        "            odd_is_present = True\n",
        "    final_count += 1\n",
        "\n",
        "    return final_count\n"
      ],
      "metadata": {
        "id": "6wTNnp2HBaNu"
      },
      "execution_count": null,
      "outputs": []
    },
    {
      "cell_type": "code",
      "source": [
        "# Example :[9,8,7,6,5,4,3,2,1]\n",
        "#  After Sorting ; [1,2,3,4,5,6,7,8,9]\n",
        "\n",
        "# 1) [1,8,9] -> 8\n",
        "# 2) [2,6,7] -> 6\n",
        "# 3) [3,4,5] -> 4\n",
        "\n",
        "# coins => 18\n"
      ],
      "metadata": {
        "id": "8zr9sOUKFihc"
      },
      "execution_count": null,
      "outputs": []
    },
    {
      "cell_type": "code",
      "source": [
        "# Design Browser History\n",
        "\n",
        "class BrowseHistort:\n",
        "\n",
        "  def __init__(self, homepage:str):\n",
        "     self.histoty = [homepage]\n",
        "     self.current_index = 0\n",
        "\n",
        "  def visit(self, url:str) -> None:\n",
        "     self.current_index +=1\n",
        "     self.history = self.history[0:self.current_index] #clears forward history\n",
        "     self.history.append(url)\n",
        "     \n",
        "  def back(self, steps: int) -> str:\n",
        "     self.current_index = max(0, self.current_index- steps)\n",
        "     return self.history[self.current_index]\n",
        "\n",
        "  def forward(self, steps:int) -> str:\n",
        "     self.current_index = min(len(self.history)-1, self.current_index+steps)\n",
        "     return self.history[self.current_index]\n",
        "     "
      ],
      "metadata": {
        "id": "CW1xtO32Gg9p"
      },
      "execution_count": null,
      "outputs": []
    },
    {
      "cell_type": "code",
      "source": [
        "# Two Sum\n",
        "# Input: nums =[-1,0,3,5,9,12], target = 9\n",
        "# Output = 4\n",
        "\n",
        "# Dictionary storage\n",
        "class Solution:\n",
        "    def twoSum(self,nums,target):\n",
        "      seen={} #dictionary   \n",
        "\n",
        "      for i, num in enumerate(nums):\n",
        "        if targert - num in seen:\n",
        "          return([seen[target-num],i])\n",
        "        elif num not in seen:\n",
        "          seen[num] =i\n",
        "\n",
        "# time complexity O(n)\n",
        "# space complexity "
      ],
      "metadata": {
        "id": "JSpMdUSab7_y"
      },
      "execution_count": null,
      "outputs": []
    },
    {
      "cell_type": "code",
      "source": [
        "# Longest Common Prefix\n",
        "# Input strs:[\"flower\",\"flow\",\"flight\"]\n",
        "# Output:\"fl\"\n",
        "\n",
        "class Solution:\n",
        "    def longestCommonPrefix(self,strs):\n",
        "      if len(strs) == 0:\n",
        "        return(\"\")\n",
        "      if lens(strs)==1:\n",
        "        return(strs[0])\n",
        "\n",
        "        pref = strs[0]\n",
        "        plen = len(pref)\n",
        "\n",
        "        for s in strs[1:]:\n",
        "          while pref != s[0:plen]:\n",
        "            pref= pref[0:(plen-1)]\n",
        "            plen -= 1\n",
        "\n",
        "            if plen == 0:\n",
        "              return(\" \")\n",
        "      return(pref)"
      ],
      "metadata": {
        "id": "JK_thM8G_qLR"
      },
      "execution_count": null,
      "outputs": []
    },
    {
      "cell_type": "code",
      "source": [
        "# 3Sum\n",
        "# Input nums:[-1,0,1,2,-1,-4]\n",
        "# Output: [[-1,-1,2],[-1,0,1]]\n",
        "\n",
        "class Solution:\n",
        "    def 3Sum(self,nums):\n",
        "        if len(nums) < 3:\n",
        "          return([])\n",
        "\n",
        "         triplets = []\n",
        "\n",
        "         for i in range (0, len(nums)-2):\n",
        "           for j in range (i+1, lens(nums)-1):\n",
        "             for k in range (j+1, lens(nums)):\n",
        "\n",
        "               if (nums[i] + nums[j] + nums[k]) == 0:\n",
        "                  triplets.append(tuple(sorted([nums[i]+nums[j]+nums[k]])))\n",
        "        return (list(set(triplets)))"
      ],
      "metadata": {
        "id": "hMCJX1hlA51H"
      },
      "execution_count": null,
      "outputs": []
    },
    {
      "cell_type": "code",
      "source": [
        "# Length of Last Word\n",
        "# Input : s = \"Hello World\"\n",
        "# Output:5\n",
        "class Solution:\n",
        "    def lengthOfLastWord(self,s):\n",
        "        # Method 1: String split\n",
        "        if s.split():\n",
        "          return len(s.split()[-1])\n",
        "        return 0\n",
        "\n",
        "        # Method 2: Manual string length count\n",
        "        count=0\n",
        "        for letter in s[::-1]:\n",
        "          if letter ==\" \":\n",
        "              if count >=1 :\n",
        "                return count\n",
        "              else:\n",
        "                count+=1\n",
        "         return count"
      ],
      "metadata": {
        "id": "D3tdiJ6DCzQH"
      },
      "execution_count": 1,
      "outputs": []
    },
    {
      "cell_type": "code",
      "source": [
        "# Plus One\n",
        "# Input : digits =[1,2,3]\n",
        "# Output: [1,2,4]\n",
        "\n",
        "class Solution:\n",
        "    def plusOne(self,digits):\n",
        "\n",
        "      # Method 1 : Type Conversion\n",
        "      return [int(x) for x in str(int(\" \".join([str(i) for i in digits]))+1)]\n",
        "\n",
        "      # Method 2 : Reverse list addition\n",
        "      for i in range (len(digits)-1,-1,-1):\n",
        "        if digits[i] == 9:\n",
        "          digits[i] = 0\n",
        "        else:\n",
        "          digits[i] +=1\n",
        "          return(digits)\n",
        "      return [1] + digits"
      ],
      "metadata": {
        "id": "WaGIBDK9Dp4F"
      },
      "execution_count": null,
      "outputs": []
    },
    {
      "cell_type": "code",
      "source": [
        "# Maximun depth of binary \n",
        "# Input : tree = [3,9,20,null,null,15,7]\n",
        "# Output: depth = 3\n",
        "\n",
        "# recursive method\n",
        "class Solution:\n",
        "    def maxDepth(self,root):\n",
        "      if not root:\n",
        "        return 0\n",
        "      return (1+ max(self.maxDepth(root.left), self.maxDepth(root.right))) "
      ],
      "metadata": {
        "id": "ZFBfrM66LCbe"
      },
      "execution_count": null,
      "outputs": []
    },
    {
      "cell_type": "code",
      "source": [
        "# Fibonacci Numbers\n",
        "# F(0) = 0, F(1) = 1\n",
        "# F(n) = F(n - 1) + F(n - 2), for n > 1\n",
        "\n",
        "class Solution:\n",
        "    def fib(self, N: int) -> int:\n",
        "        if N <= 1:\n",
        "            return N\n",
        "        return self.fib(N - 1) + self.fib(N - 2)"
      ],
      "metadata": {
        "id": "LFH0FE3kL8Uk"
      },
      "execution_count": null,
      "outputs": []
    }
  ],
  "metadata": {
    "colab": {
      "collapsed_sections": [],
      "name": "Welcome To Colaboratory",
      "provenance": [],
      "include_colab_link": true
    },
    "kernelspec": {
      "display_name": "Python 3",
      "name": "python3"
    }
  },
  "nbformat": 4,
  "nbformat_minor": 0
}