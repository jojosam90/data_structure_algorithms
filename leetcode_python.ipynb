{
  "cells": [
    {
      "cell_type": "markdown",
      "metadata": {
        "id": "view-in-github",
        "colab_type": "text"
      },
      "source": [
        "<a href=\"https://colab.research.google.com/github/jojosam90/data_structure_algorithms/blob/main/leetcode_python.ipynb\" target=\"_parent\"><img src=\"https://colab.research.google.com/assets/colab-badge.svg\" alt=\"Open In Colab\"/></a>"
      ]
    },
    {
      "cell_type": "code",
      "source": [
        "# Binary Search\n",
        "# Input: nums =[-1,0,3,5,9,12], target = 9\n",
        "# Output = 4\n",
        "\n",
        "nums =[-1,0,3,5,9,12]\n",
        "target = 9\n",
        "\n",
        "class Solution:\n",
        "  def search(self,nums,target) -> int:\n",
        "    for i, num in enumerate (nums):\n",
        "        if num == target:\n",
        "          return i \n",
        "    return -1\n",
        "\n",
        "\n",
        "class Solution:\n",
        "  def search(self,nums,target) -> int:\n",
        "    start = 0\n",
        "    end = len(nums)-1\n",
        "\n",
        "    while start <= end:\n",
        "      mid = (start + end) / 2\n",
        "      num = nums[mid]\n",
        "      if target == num:\n",
        "        return mid\n",
        "      elif target > num:\n",
        "        start = mid + 1\n",
        "      elif target < num:\n",
        "        end = mid - 1       \n",
        "      return -1 \n",
        "\n",
        "# time complexity : O(log N)\n",
        "# space complexity : O(1) constant space solution "
      ],
      "metadata": {
        "id": "vYw88bOr83gr"
      },
      "execution_count": 14,
      "outputs": []
    },
    {
      "cell_type": "code",
      "source": [
        "# Longest Palindrome\n",
        "# Exmaple 1\n",
        "# Input : s = \"abccccdd\"\n",
        "# Output : 7\n",
        "\n",
        "# Exmaple 2\n",
        "# Input : s = \"a\"\n",
        "# Output : 1\n",
        "\n",
        "# Exmaple 3\n",
        "# Input : s = \"ccc\"\n",
        "# Output : 3\n",
        "\n",
        "class Solution:\n",
        "  def search(self,nums,target) -> int:\n",
        "    char_count={}\n",
        "    for char in s:\n",
        "      char_count[char] = char_count.get(char,0) + 1\n",
        "    \n",
        "    final_count = 0\n",
        "    odd_is_present = False\n",
        "    for char in char_count:\n",
        "        if char_count[char] % 2 ==0:\n",
        "            final_count += char_count[char]\n",
        "        else:\n",
        "            odd_is_present = True\n",
        "    final_count += 1\n",
        "\n",
        "    return final_count\n"
      ],
      "metadata": {
        "id": "6wTNnp2HBaNu"
      },
      "execution_count": null,
      "outputs": []
    },
    {
      "cell_type": "code",
      "source": [
        "# Example :[9,8,7,6,5,4,3,2,1]\n",
        "#  After Sorting ; [1,2,3,4,5,6,7,8,9]\n",
        "\n",
        "# 1) [1,8,9] -> 8\n",
        "# 2) [2,6,7] -> 6\n",
        "# 3) [3,4,5] -> 4\n",
        "\n",
        "# coins => 18\n"
      ],
      "metadata": {
        "id": "8zr9sOUKFihc"
      },
      "execution_count": null,
      "outputs": []
    },
    {
      "cell_type": "code",
      "source": [
        "# Design Browser History\n"
      ],
      "metadata": {
        "id": "CW1xtO32Gg9p"
      },
      "execution_count": null,
      "outputs": []
    }
  ],
  "metadata": {
    "colab": {
      "collapsed_sections": [],
      "name": "Welcome To Colaboratory",
      "toc_visible": true,
      "provenance": [],
      "include_colab_link": true
    },
    "kernelspec": {
      "display_name": "Python 3",
      "name": "python3"
    }
  },
  "nbformat": 4,
  "nbformat_minor": 0
}