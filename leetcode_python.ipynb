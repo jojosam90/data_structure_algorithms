{
  "cells": [
    {
      "cell_type": "markdown",
      "metadata": {
        "id": "view-in-github",
        "colab_type": "text"
      },
      "source": [
        "<a href=\"https://colab.research.google.com/github/jojosam90/data_structure_algorithms/blob/main/leetcode_python.ipynb\" target=\"_parent\"><img src=\"https://colab.research.google.com/assets/colab-badge.svg\" alt=\"Open In Colab\"/></a>"
      ]
    },
    {
      "cell_type": "code",
      "source": [
        "# Binary Search\n",
        "# Input: nums =[-1,0,3,5,9,12], target = 9\n",
        "# Output = 4\n",
        "\n",
        "nums =[-1,0,3,5,9,12]\n",
        "target = 9\n",
        "\n",
        "class Solution:\n",
        "  def search(self,nums,target) -> int:\n",
        "    for i, num in enumerate (nums):\n",
        "        if num == target:\n",
        "          return i \n",
        "    return -1\n",
        "\n",
        "\n",
        "class Solution:\n",
        "  def search(self,nums,target) -> int:\n",
        "    start = 0\n",
        "    end = len(nums)-1\n",
        "\n",
        "    while start <= end:\n",
        "      mid = (start + end) / 2\n",
        "      num = nums[mid]\n",
        "      if target == num:\n",
        "        return mid\n",
        "      elif target > num:\n",
        "        start = mid + 1\n",
        "      elif target < num:\n",
        "        end = mid - 1       \n",
        "      return -1 \n",
        "\n",
        "# time complexity : O(log N)\n",
        "# space complexity : O(1) constant space solution "
      ],
      "metadata": {
        "id": "vYw88bOr83gr"
      },
      "execution_count": 14,
      "outputs": []
    }
  ],
  "metadata": {
    "colab": {
      "collapsed_sections": [],
      "name": "Welcome To Colaboratory",
      "toc_visible": true,
      "provenance": [],
      "include_colab_link": true
    },
    "kernelspec": {
      "display_name": "Python 3",
      "name": "python3"
    }
  },
  "nbformat": 4,
  "nbformat_minor": 0
}