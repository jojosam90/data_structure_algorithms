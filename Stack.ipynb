{
  "cells": [
    {
      "cell_type": "markdown",
      "metadata": {
        "id": "view-in-github",
        "colab_type": "text"
      },
      "source": [
        "<a href=\"https://colab.research.google.com/github/jojosam90/data_structure_algorithms/blob/main/Stack.ipynb\" target=\"_parent\"><img src=\"https://colab.research.google.com/assets/colab-badge.svg\" alt=\"Open In Colab\"/></a>"
      ]
    },
    {
      "cell_type": "markdown",
      "source": [
        "**Stack**\n",
        "\n",
        "\n"
      ],
      "metadata": {
        "id": "myMwaQc4KpZx"
      }
    },
    {
      "cell_type": "code",
      "source": [
        "# Valid Parentheses (Easy)\n",
        "# Input: s = \"()\"\n",
        "# Output: true\n",
        "\n",
        "# Input: s = \"()[]{}\"\n",
        "# Output: true\n",
        "\n",
        "class Solution:\n",
        "    def isValid(self, s: str) -> bool:\n",
        "        Map = {\")\": \"(\", \"]\": \"[\", \"}\": \"{\"}\n",
        "        stack = []\n",
        "\n",
        "        for c in s:\n",
        "            if c not in Map:\n",
        "                stack.append(c)\n",
        "                continue\n",
        "            if not stack or stack[-1] != Map[c]:\n",
        "                return False\n",
        "            stack.pop()\n",
        "\n",
        "        return not stack"
      ],
      "metadata": {
        "id": "Dx5ZNhgsKECT"
      },
      "execution_count": null,
      "outputs": []
    },
    {
      "cell_type": "code",
      "source": [
        "# Min Stack (Medium)\n",
        "\n",
        "# Input\n",
        "# [\"MinStack\",\"push\",\"push\",\"push\",\"getMin\",\"pop\",\"top\",\"getMin\"]\n",
        "# [[],[-2],[0],[-3],[],[],[],[]]\n",
        "\n",
        "# Output\n",
        "# [null,null,null,null,-3,null,0,-2]\n",
        "\n",
        "# Explanation\n",
        "# MinStack minStack = new MinStack();\n",
        "# minStack.push(-2);\n",
        "# minStack.push(0);\n",
        "# minStack.push(-3);\n",
        "# minStack.getMin(); // return -3\n",
        "# minStack.pop();\n",
        "# minStack.top();    // return 0\n",
        "# minStack.getMin(); // return -2\n",
        "\n",
        "class MinStack:\n",
        "    def __init__(self):\n",
        "        self.stack = []\n",
        "        self.minStack = []\n",
        "\n",
        "    def push(self, val: int) -> None:\n",
        "        self.stack.append(val)\n",
        "        val = min(val, self.minStack[-1] if self.minStack else val)\n",
        "        self.minStack.append(val)\n",
        "\n",
        "    def pop(self) -> None:\n",
        "        self.stack.pop()\n",
        "        self.minStack.pop()\n",
        "\n",
        "    def top(self) -> int:\n",
        "        return self.stack[-1]\n",
        "\n",
        "    def getMin(self) -> int:\n",
        "        return self.minStack[-1]"
      ],
      "metadata": {
        "id": "guXxplo68S8Y"
      },
      "execution_count": null,
      "outputs": []
    },
    {
      "cell_type": "code",
      "source": [
        "# Evaluate Reverse Polish Notation (Medium)\n",
        "\n",
        "# Input: tokens = [\"2\",\"1\",\"+\",\"3\",\"*\"]\n",
        "# Output: 9\n",
        "# Explanation: ((2 + 1) * 3) = 9\n",
        "\n",
        "class Solution:\n",
        "    def evalRPN(self, tokens: List[str]) -> int:\n",
        "        stack = []\n",
        "        for c in tokens:\n",
        "            if c == \"+\":\n",
        "                stack.append(stack.pop() + stack.pop())\n",
        "            elif c == \"-\":\n",
        "                a, b = stack.pop(), stack.pop()\n",
        "                stack.append(b - a)\n",
        "            elif c == \"*\":\n",
        "                stack.append(stack.pop() * stack.pop())\n",
        "            elif c == \"/\":\n",
        "                a, b = stack.pop(), stack.pop()\n",
        "                stack.append(int(b / a))\n",
        "            else:\n",
        "                stack.append(int(c))\n",
        "        return stack[0]"
      ],
      "metadata": {
        "id": "XAk3Uv8l8hUv"
      },
      "execution_count": null,
      "outputs": []
    }
  ],
  "metadata": {
    "colab": {
      "collapsed_sections": [],
      "name": "Welcome To Colaboratory",
      "provenance": [],
      "include_colab_link": true
    },
    "kernelspec": {
      "display_name": "Python 3",
      "name": "python3"
    }
  },
  "nbformat": 4,
  "nbformat_minor": 0
}