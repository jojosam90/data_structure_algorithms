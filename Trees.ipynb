{
  "cells": [
    {
      "cell_type": "markdown",
      "metadata": {
        "id": "view-in-github",
        "colab_type": "text"
      },
      "source": [
        "<a href=\"https://colab.research.google.com/github/jojosam90/data_structure_algorithms/blob/main/Trees.ipynb\" target=\"_parent\"><img src=\"https://colab.research.google.com/assets/colab-badge.svg\" alt=\"Open In Colab\"/></a>"
      ]
    },
    {
      "cell_type": "markdown",
      "source": [
        "**Trees**\n",
        "\n",
        "\n"
      ],
      "metadata": {
        "id": "myMwaQc4KpZx"
      }
    },
    {
      "cell_type": "code",
      "source": [
        "# Invert Binary Tree (Easy)\n",
        "\n",
        "# Input: root = [4,2,7,1,3,6,9]\n",
        "# Output: [4,7,2,9,6,3,1]\n",
        "\n",
        "class TreeNode:\n",
        "    def __init__(self, val=0, left=None, right=None):\n",
        "        self.val = val\n",
        "        self.left = left\n",
        "        self.right = right\n",
        "        \n",
        "class Solution:\n",
        "    def invertTree(self, root: TreeNode) -> TreeNode:\n",
        "        if not root:\n",
        "            return None\n",
        "\n",
        "        # swap the children\n",
        "        tmp = root.left\n",
        "        root.left = root.right\n",
        "        root.right = tmp\n",
        "\n",
        "        self.invertTree(root.left)\n",
        "        self.invertTree(root.right)\n",
        "        return root"
      ],
      "metadata": {
        "id": "Dx5ZNhgsKECT"
      },
      "execution_count": null,
      "outputs": []
    },
    {
      "cell_type": "code",
      "source": [
        "# Maximum Depth of Binary Tree (Easy)\n",
        "\n",
        "# Input: root = [3,9,20,null,null,15,7]\n",
        "# Output: 3\n",
        "\n",
        "# RECURSIVE DFS\n",
        "class Solution:\n",
        "    def maxDepth(self, root: TreeNode) -> int:\n",
        "        if not root:\n",
        "            return 0\n",
        "\n",
        "        return 1 + max(self.maxDepth(root.left), self.maxDepth(root.right))\n",
        "\n",
        "# BFS\n",
        "class Solution:\n",
        "    def maxDepth(self, root: TreeNode) -> int:\n",
        "        if not root:\n",
        "            return 0\n",
        "\n",
        "        level = 0\n",
        "        q = deque([root])\n",
        "        while q:\n",
        "\n",
        "            for i in range(len(q)):\n",
        "                node = q.popleft()\n",
        "                if node.left:\n",
        "                    q.append(node.left)\n",
        "                if node.right:\n",
        "                    q.append(node.right)\n",
        "            level += 1\n",
        "        return level"
      ],
      "metadata": {
        "id": "CG5r8fSYEoJj"
      },
      "execution_count": null,
      "outputs": []
    },
    {
      "cell_type": "code",
      "source": [
        "# Diameter of Binary Tree (Easy)\n",
        "# Input: root = [1,2,3,4,5]\n",
        "# Output: 3\n",
        "# Explanation: 3 is the length of the path [4,2,1,3] or [5,2,1,3].\n",
        "\n",
        "class TreeNode:\n",
        "    def __init__(self, val=0, left=None, right=None):\n",
        "        self.val = val\n",
        "        self.left = left\n",
        "        self.right = right\n",
        "\n",
        "class Solution:\n",
        "    def diameterOfBinaryTree(self, root: TreeNode) -> int:\n",
        "        res = [0]\n",
        "\n",
        "        def dfs(root):\n",
        "            if not root:\n",
        "                return -1\n",
        "            left = dfs(root.left)\n",
        "            right = dfs(root.right)\n",
        "            res[0] = max(res[0], 2 + left + right)\n",
        "\n",
        "            return 1 + max(left, right)\n",
        "\n",
        "        dfs(root)\n",
        "        return res[0]"
      ],
      "metadata": {
        "id": "j4pUMBzhFy6I"
      },
      "execution_count": null,
      "outputs": []
    },
    {
      "cell_type": "code",
      "source": [
        "# Balanced Binary Tree(Easy)\n",
        "\n",
        "Input: root = [3,9,20,null,null,15,7]\n",
        "Output: true\n",
        "\n",
        "class TreeNode:\n",
        "    def __init__(self, val=0, left=None, right=None):\n",
        "        self.val = val\n",
        "        self.left = left\n",
        "        self.right = right\n",
        "        \n",
        "class Solution:\n",
        "    def isBalanced(self, root: Optional[TreeNode]) -> bool:\n",
        "        def dfs(root):\n",
        "            if not root:\n",
        "                return [True, 0]\n",
        "\n",
        "            left, right = dfs(root.left), dfs(root.right)\n",
        "            balanced = left[0] and right[0] and abs(left[1] - right[1]) <= 1\n",
        "            return [balanced, 1 + max(left[1], right[1])]\n",
        "\n",
        "        return dfs(root)[0]"
      ],
      "metadata": {
        "id": "uvJ3cjqzF-Tl"
      },
      "execution_count": null,
      "outputs": []
    },
    {
      "cell_type": "code",
      "source": [
        "# Binary Tree Level Order Traversal (Medium)\n",
        "# from left to right, level by level\n",
        "Input: root = [3,9,20,null,null,15,7]\n",
        "Output: [[3],[9,20],[15,7]]\n",
        "\n",
        "class TreeNode:\n",
        "    def __init__(self, x):\n",
        "        self.val = x\n",
        "        self.left = None\n",
        "        self.right = None\n",
        "\n",
        "class Solution:\n",
        "    def levelOrder(self, root: TreeNode) -> List[List[int]]:\n",
        "        res = []\n",
        "        q = collections.deque()\n",
        "        if root:\n",
        "            q.append(root)\n",
        "\n",
        "        while q:\n",
        "            val = []\n",
        "\n",
        "            for i in range(len(q)):\n",
        "                node = q.popleft()\n",
        "                val.append(node.val)\n",
        "                if node.left:\n",
        "                    q.append(node.left)\n",
        "                if node.right:\n",
        "                    q.append(node.right)\n",
        "            res.append(val)\n",
        "        return res\n"
      ],
      "metadata": {
        "id": "iKoSDmSEGL2l"
      },
      "execution_count": null,
      "outputs": []
    }
  ],
  "metadata": {
    "colab": {
      "collapsed_sections": [],
      "name": "Welcome To Colaboratory",
      "provenance": [],
      "include_colab_link": true
    },
    "kernelspec": {
      "display_name": "Python 3",
      "name": "python3"
    }
  },
  "nbformat": 4,
  "nbformat_minor": 0
}