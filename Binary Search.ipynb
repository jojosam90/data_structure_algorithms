{
  "cells": [
    {
      "cell_type": "markdown",
      "metadata": {
        "id": "view-in-github",
        "colab_type": "text"
      },
      "source": [
        "<a href=\"https://colab.research.google.com/github/jojosam90/data_structure_algorithms/blob/main/Binary%20Search.ipynb\" target=\"_parent\"><img src=\"https://colab.research.google.com/assets/colab-badge.svg\" alt=\"Open In Colab\"/></a>"
      ]
    },
    {
      "cell_type": "markdown",
      "source": [
        "**Binary Search**\n",
        "\n",
        "\n"
      ],
      "metadata": {
        "id": "myMwaQc4KpZx"
      }
    },
    {
      "cell_type": "code",
      "source": [
        "# Binary Search (Easy)\n",
        "# Input: nums = [-1,0,3,5,9,12], target = 9\n",
        "# Output: 4\n",
        "# Explanation: 9 exists in nums and its index is 4\n",
        "\n",
        "class Solution:\n",
        "    def search(self, nums: List[int], target: int) -> int:\n",
        "        l, r = 0, len(nums) - 1\n",
        "\n",
        "        while l <= r:\n",
        "            m = l + ((r - l) // 2)  # (l + r) // 2 can lead to overflow\n",
        "            if nums[m] > target:\n",
        "                r = m - 1\n",
        "            elif nums[m] < target:\n",
        "                l = m + 1\n",
        "            else:\n",
        "                return m\n",
        "        return -1"
      ],
      "metadata": {
        "id": "Dx5ZNhgsKECT"
      },
      "execution_count": null,
      "outputs": []
    },
    {
      "cell_type": "code",
      "source": [
        "# Search a 2D Matrix (Medium)\n",
        "# Input: matrix = [[1,3,5,7],[10,11,16,20],[23,30,34,60]], target = 3\n",
        "# Output: true\n",
        "\n",
        "class Solution:\n",
        "    def searchMatrix(self, matrix: List[List[int]], target: int) -> bool:\n",
        "        ROWS, COLS = len(matrix), len(matrix[0])\n",
        "\n",
        "        top, bot = 0, ROWS - 1\n",
        "        while top <= bot:\n",
        "            row = (top + bot) // 2\n",
        "            if target > matrix[row][-1]:\n",
        "                top = row + 1\n",
        "            elif target < matrix[row][0]:\n",
        "                bot = row - 1\n",
        "            else:\n",
        "                break\n",
        "\n",
        "        if not (top <= bot):\n",
        "            return False\n",
        "\n",
        "        l, r = 0, COLS - 1\n",
        "        while l <= r:\n",
        "            m = (l + r) // 2\n",
        "            if target > matrix[row][m]:\n",
        "                l = m + 1\n",
        "            elif target < matrix[row][m]:\n",
        "                r = m - 1\n",
        "            else:\n",
        "                return True\n",
        "        return False"
      ],
      "metadata": {
        "id": "oCJUI5Zu9HIN"
      },
      "execution_count": null,
      "outputs": []
    },
    {
      "cell_type": "code",
      "source": [
        "# Search in Rotated Sorted Array (Medium)\n",
        "# Input: nums = [4,5,6,7,0,1,2], target = 0\n",
        "# Output: 4\n",
        "\n",
        "class Solution:\n",
        "    def search(self, nums: List[int], target: int) -> int:\n",
        "        l, r = 0, len(nums) - 1\n",
        "\n",
        "        while l <= r:\n",
        "            mid = (l + r) // 2\n",
        "            if target == nums[mid]:\n",
        "                return mid\n",
        "\n",
        "            # left sorted portion\n",
        "            if nums[l] <= nums[mid]:\n",
        "                if target > nums[mid] or target < nums[l]:\n",
        "                    l = mid + 1\n",
        "                else:\n",
        "                    r = mid - 1\n",
        "            # right sorted portion\n",
        "            else:\n",
        "                if target < nums[mid] or target > nums[r]:\n",
        "                    r = mid - 1\n",
        "                else:\n",
        "                    l = mid + 1\n",
        "        return -1"
      ],
      "metadata": {
        "id": "rhWx6CUW9vJF"
      },
      "execution_count": null,
      "outputs": []
    },
    {
      "cell_type": "code",
      "source": [
        "# Find Minimum in Rotated Sorted Array (Medium)\n",
        "# Input: nums = [3,4,5,1,2]\n",
        "# Output: 1\n",
        "# Explanation: The original array was [1,2,3,4,5] rotated 3 times.\n",
        "\n",
        "class Solution:\n",
        "    def findMin(self, nums: List[int]) -> int:\n",
        "        res = nums[0]\n",
        "        l, r = 0, len(nums) - 1\n",
        "\n",
        "        while l <= r:\n",
        "            if nums[l] < nums[r]:\n",
        "                res = min(res, nums[l])\n",
        "                break\n",
        "            m = (l + r) // 2\n",
        "            res = min(res, nums[m])\n",
        "            if nums[m] >= nums[l]:\n",
        "                l = m + 1\n",
        "            else:\n",
        "                r = m - 1\n",
        "        return res"
      ],
      "metadata": {
        "id": "NRrDTxeB967n"
      },
      "execution_count": null,
      "outputs": []
    },
    {
      "cell_type": "code",
      "source": [
        "# Find Median of Two Sorted Arrays (Hard)\n",
        "# Input: nums1 = [1,2], nums2 = [3,4]\n",
        "# Output: 2.50000\n",
        "# Explanation: merged array = [1,2,3,4] and median is (2 + 3) / 2 = 2.5.\n",
        "\n",
        "class Solution:\n",
        "    def findMedianSortedArrays(self, nums1: List[int], nums2: List[int]) -> float:\n",
        "        A, B = nums1, nums2\n",
        "        total = len(nums1) + len(nums2)\n",
        "        half = total // 2\n",
        "\n",
        "        if len(B) < len(A):\n",
        "            A, B = B, A\n",
        "\n",
        "        l, r = 0, len(A) - 1\n",
        "        while True:\n",
        "            i = (l + r) // 2  # A\n",
        "            j = half - i - 2  # B\n",
        "\n",
        "            Aleft = A[i] if i >= 0 else float(\"-infinity\")\n",
        "            Aright = A[i + 1] if (i + 1) < len(A) else float(\"infinity\")\n",
        "            Bleft = B[j] if j >= 0 else float(\"-infinity\")\n",
        "            Bright = B[j + 1] if (j + 1) < len(B) else float(\"infinity\")\n",
        "\n",
        "            # partition is correct\n",
        "            if Aleft <= Bright and Bleft <= Aright:\n",
        "                # odd\n",
        "                if total % 2:\n",
        "                    return min(Aright, Bright)\n",
        "                # even\n",
        "                return (max(Aleft, Bleft) + min(Aright, Bright)) / 2\n",
        "            elif Aleft > Bright:\n",
        "                r = i - 1\n",
        "            else:\n",
        "                l = i + 1\n"
      ],
      "metadata": {
        "id": "ZQgd_KN2-aJW"
      },
      "execution_count": null,
      "outputs": []
    }
  ],
  "metadata": {
    "colab": {
      "collapsed_sections": [],
      "name": "Welcome To Colaboratory",
      "provenance": [],
      "include_colab_link": true
    },
    "kernelspec": {
      "display_name": "Python 3",
      "name": "python3"
    }
  },
  "nbformat": 4,
  "nbformat_minor": 0
}