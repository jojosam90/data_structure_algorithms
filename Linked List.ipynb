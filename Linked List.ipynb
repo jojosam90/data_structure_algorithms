{
  "cells": [
    {
      "cell_type": "markdown",
      "metadata": {
        "id": "view-in-github",
        "colab_type": "text"
      },
      "source": [
        "<a href=\"https://colab.research.google.com/github/jojosam90/data_structure_algorithms/blob/main/Linked%20List.ipynb\" target=\"_parent\"><img src=\"https://colab.research.google.com/assets/colab-badge.svg\" alt=\"Open In Colab\"/></a>"
      ]
    },
    {
      "cell_type": "markdown",
      "source": [
        "**Linked List**\n",
        "\n",
        "\n"
      ],
      "metadata": {
        "id": "myMwaQc4KpZx"
      }
    },
    {
      "cell_type": "code",
      "source": [
        "# Reverse Linked List (Easy)\n",
        "# Input: head = [1,2,3,4,5]\n",
        "# Output: [5,4,3,2,1]\n",
        "\n",
        "class ListNode:\n",
        "    def __init__(self, x):\n",
        "        self.val = x\n",
        "        self.next = None\n",
        "\n",
        "class Solution:\n",
        "    def reverseList(self, head: ListNode) -> ListNode:\n",
        "        prev, curr = None, head\n",
        "\n",
        "        while curr:\n",
        "            temp = curr.next\n",
        "            curr.next = prev\n",
        "            prev = curr\n",
        "            curr = temp\n",
        "        return prev"
      ],
      "metadata": {
        "id": "Dx5ZNhgsKECT"
      },
      "execution_count": null,
      "outputs": []
    },
    {
      "cell_type": "code",
      "source": [
        "# Merge Two Sorted Lists (Easy)\n",
        "# Input: list1 = [1,2,4], list2 = [1,3,4]\n",
        "# Output: [1,1,2,3,4,4]\n",
        "\n",
        "class ListNode:\n",
        "    def __init__(self, val=0, next=None):\n",
        "        self.val = val\n",
        "        self.next = next\n",
        "        \n",
        "class Solution:\n",
        "    def mergeTwoLists(self, l1: ListNode, l2: ListNode) -> ListNode:\n",
        "        dummy = ListNode()\n",
        "        tail = dummy\n",
        "\n",
        "        while l1 and l2:\n",
        "            if l1.val < l2.val:\n",
        "                tail.next = l1\n",
        "                l1 = l1.next\n",
        "            else:\n",
        "                tail.next = l2\n",
        "                l2 = l2.next\n",
        "            tail = tail.next\n",
        "\n",
        "        if l1:\n",
        "            tail.next = l1\n",
        "        elif l2:\n",
        "            tail.next = l2\n",
        "\n",
        "        return dummy.next"
      ],
      "metadata": {
        "id": "1vfY9aO0CDc-"
      },
      "execution_count": null,
      "outputs": []
    },
    {
      "cell_type": "code",
      "source": [
        "# Reorder List (Medium)\n",
        "# Input: head = [1,2,3,4]\n",
        "# Output: [1,4,2,3]\n",
        "\n",
        "# Input: head = [1,2,3,4,5]\n",
        "# Output: [1,5,2,4,3]\n",
        "\n",
        "class Solution:\n",
        "    def reorderList(self, head: ListNode) -> None:\n",
        "        # find middle\n",
        "        slow, fast = head, head.next\n",
        "        while fast and fast.next:\n",
        "            slow = slow.next\n",
        "            fast = fast.next.next\n",
        "\n",
        "        # reverse second half\n",
        "        second = slow.next\n",
        "        prev = slow.next = None\n",
        "        while second:\n",
        "            tmp = second.next\n",
        "            second.next = prev\n",
        "            prev = second\n",
        "            second = tmp\n",
        "\n",
        "        # merge two halfs\n",
        "        first, second = head, prev\n",
        "        while second:\n",
        "            tmp1, tmp2 = first.next, second.next\n",
        "            first.next = second\n",
        "            second.next = tmp1\n",
        "            first, second = tmp1, tmp2"
      ],
      "metadata": {
        "id": "8ZUmXERqCyNI"
      },
      "execution_count": null,
      "outputs": []
    },
    {
      "cell_type": "code",
      "source": [
        "# Remove Nth Node From End of List (Medium)\n",
        "\n",
        "# Input: head = [1,2,3,4,5], n = 2\n",
        "# Output: [1,2,3,5]\n",
        "\n",
        "class Solution:\n",
        "    def removeNthFromEnd(self, head: ListNode, n: int) -> ListNode:\n",
        "        dummy = ListNode(0, head)\n",
        "        left = dummy\n",
        "        right = head\n",
        "\n",
        "        while n > 0:\n",
        "            right = right.next\n",
        "            n -= 1\n",
        "\n",
        "        while right:\n",
        "            left = left.next\n",
        "            right = right.next\n",
        "\n",
        "        # delete\n",
        "        left.next = left.next.next\n",
        "        return dummy.next"
      ],
      "metadata": {
        "id": "TugQ7SrnC-H5"
      },
      "execution_count": null,
      "outputs": []
    },
    {
      "cell_type": "code",
      "source": [
        "# Add Two Numbers (Medium)\n",
        "# Input: l1 = [2,4,3], l2 = [5,6,4]\n",
        "# Output: [7,0,8]\n",
        "# Explanation: 342 + 465 = 807.\n",
        "\n",
        "class ListNode:\n",
        "    def __init__(self, val=0, next=None):\n",
        "        self.val = val\n",
        "        self.next = next\n",
        "        \n",
        "class Solution:\n",
        "    def addTwoNumbers(self, l1: ListNode, l2: ListNode) -> ListNode:\n",
        "        dummy = ListNode()\n",
        "        cur = dummy\n",
        "\n",
        "        carry = 0\n",
        "        while l1 or l2 or carry:\n",
        "            v1 = l1.val if l1 else 0\n",
        "            v2 = l2.val if l2 else 0\n",
        "\n",
        "            # new digit\n",
        "            val = v1 + v2 + carry\n",
        "            carry = val // 10\n",
        "            val = val % 10\n",
        "            cur.next = ListNode(val)\n",
        "\n",
        "            # update ptrs\n",
        "            cur = cur.next\n",
        "            l1 = l1.next if l1 else None\n",
        "            l2 = l2.next if l2 else None\n",
        "\n",
        "        return dummy.next"
      ],
      "metadata": {
        "id": "97e9Hq0GDMT7"
      },
      "execution_count": null,
      "outputs": []
    },
    {
      "cell_type": "code",
      "source": [
        "# Linked List Cycle (Easy)\n",
        "\n",
        "# Input: head = [3,2,0,-4], pos = 1\n",
        "# Output: true\n",
        "# Explanation: There is a cycle in the linked list, where the tail connects to the 1st node (0-indexed)0\n",
        "\n",
        "class ListNode:\n",
        "    def __init__(self, x):\n",
        "        self.val = x\n",
        "        self.next = None\n",
        "\n",
        "class Solution:\n",
        "    def hasCycle(self, head: ListNode) -> bool:\n",
        "        slow, fast = head, head\n",
        "\n",
        "        while fast and fast.next:\n",
        "            slow = slow.next\n",
        "            fast = fast.next.next\n",
        "            if slow == fast:\n",
        "                return True\n",
        "        return False"
      ],
      "metadata": {
        "id": "ZTbRNOSBDl-_"
      },
      "execution_count": null,
      "outputs": []
    },
    {
      "cell_type": "code",
      "source": [
        "# Find the Duplicate Number (Medium)\n",
        "# Input: nums = [1,3,4,2,2]\n",
        "# Output: 2\n",
        "\n",
        "class Solution:\n",
        "    def findDuplicate(self, nums: List[int]) -> int:\n",
        "        slow, fast = 0, 0\n",
        "        while True:\n",
        "            slow = nums[slow]\n",
        "            fast = nums[nums[fast]]\n",
        "            if slow == fast:\n",
        "                break\n",
        "\n",
        "        slow2 = 0\n",
        "        while True:\n",
        "            slow = nums[slow]\n",
        "            slow2 = nums[slow2]\n",
        "            if slow == slow2:\n",
        "                return slow"
      ],
      "metadata": {
        "id": "boUw6WCbDzpd"
      },
      "execution_count": null,
      "outputs": []
    },
    {
      "cell_type": "code",
      "source": [
        "# Merge k Sorted Lists (Hard)\n",
        "# Input: lists = [[1,4,5],[1,3,4],[2,6]]\n",
        "# Output: [1,1,2,3,4,4,5,6]\n",
        "\n",
        "class ListNode:\n",
        "    def __init__(self, val=0, next=None):\n",
        "        self.val = val\n",
        "        self.next = next\n",
        "        \n",
        "class Solution:\n",
        "    def mergeKLists(self, lists: List[ListNode]) -> ListNode:\n",
        "        if not lists or len(lists) == 0:\n",
        "            return None\n",
        "\n",
        "        while len(lists) > 1:\n",
        "            mergedLists = []\n",
        "            for i in range(0, len(lists), 2):\n",
        "                l1 = lists[i]\n",
        "                l2 = lists[i + 1] if (i + 1) < len(lists) else None\n",
        "                mergedLists.append(self.mergeList(l1, l2))\n",
        "            lists = mergedLists\n",
        "        return lists[0]\n",
        "\n",
        "    def mergeList(self, l1, l2):\n",
        "        dummy = ListNode()\n",
        "        tail = dummy\n",
        "\n",
        "        while l1 and l2:\n",
        "            if l1.val < l2.val:\n",
        "                tail.next = l1\n",
        "                l1 = l1.next\n",
        "            else:\n",
        "                tail.next = l2\n",
        "                l2 = l2.next\n",
        "            tail = tail.next\n",
        "        if l1:\n",
        "            tail.next = l1\n",
        "        if l2:\n",
        "            tail.next = l2\n",
        "        return dummy.next\n"
      ],
      "metadata": {
        "id": "DFRkuvR5D8WF"
      },
      "execution_count": null,
      "outputs": []
    },
    {
      "cell_type": "code",
      "source": [
        "# Reverse Nodes in k-Group (Hard)\n",
        "\n",
        "# Input: head = [1,2,3,4,5], k = 2\n",
        "# Output: [2,1,4,3,5]\n",
        "\n",
        "class Solution:\n",
        "    def reverseKGroup(self, head: ListNode, k: int) -> ListNode:\n",
        "        dummy = ListNode(0, head)\n",
        "        groupPrev = dummy\n",
        "\n",
        "        while True:\n",
        "            kth = self.getKth(groupPrev, k)\n",
        "            if not kth:\n",
        "                break\n",
        "            groupNext = kth.next\n",
        "\n",
        "            # reverse group\n",
        "            prev, curr = kth.next, groupPrev.next\n",
        "            while curr != groupNext:\n",
        "                tmp = curr.next\n",
        "                curr.next = prev\n",
        "                prev = curr\n",
        "                curr = tmp\n",
        "\n",
        "            tmp = groupPrev.next\n",
        "            groupPrev.next = kth\n",
        "            groupPrev = tmp\n",
        "        return dummy.next\n",
        "\n",
        "    def getKth(self, curr, k):\n",
        "        while curr and k > 0:\n",
        "            curr = curr.next\n",
        "            k -= 1\n",
        "        return curr"
      ],
      "metadata": {
        "id": "ryjyav8BEL5s"
      },
      "execution_count": null,
      "outputs": []
    }
  ],
  "metadata": {
    "colab": {
      "collapsed_sections": [],
      "name": "Welcome To Colaboratory",
      "provenance": [],
      "include_colab_link": true
    },
    "kernelspec": {
      "display_name": "Python 3",
      "name": "python3"
    }
  },
  "nbformat": 4,
  "nbformat_minor": 0
}