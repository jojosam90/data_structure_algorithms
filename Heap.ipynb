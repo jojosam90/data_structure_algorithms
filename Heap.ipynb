{
  "cells": [
    {
      "cell_type": "markdown",
      "metadata": {
        "id": "view-in-github",
        "colab_type": "text"
      },
      "source": [
        "<a href=\"https://colab.research.google.com/github/jojosam90/data_structure_algorithms/blob/main/Heap.ipynb\" target=\"_parent\"><img src=\"https://colab.research.google.com/assets/colab-badge.svg\" alt=\"Open In Colab\"/></a>"
      ]
    },
    {
      "cell_type": "markdown",
      "source": [
        "**Heap/Priority Queue**\n",
        "\n",
        "\n"
      ],
      "metadata": {
        "id": "myMwaQc4KpZx"
      }
    },
    {
      "cell_type": "code",
      "source": [
        "# Kth Largest Element in a Stream (Easy)\n",
        "\n",
        "# [\"KthLargest\", \"add\", \"add\", \"add\", \"add\", \"add\"]\n",
        "# [[3, [4, 5, 8, 2]], [3], [5], [10], [9], [4]]\n",
        "# Output\n",
        "# [null, 4, 5, 5, 8, 8]\n",
        "\n",
        "# Explanation\n",
        "# KthLargest kthLargest = new KthLargest(3, [4, 5, 8, 2]);\n",
        "# kthLargest.add(3);   // return 4\n",
        "# kthLargest.add(5);   // return 5\n",
        "# kthLargest.add(10);  // return 5\n",
        "# kthLargest.add(9);   // return 8\n",
        "# kthLargest.add(4);   // return 8\n",
        "\n",
        "class KthLargest:\n",
        "    def __init__(self, k: int, nums: List[int]):\n",
        "        # minHeap w/ K largest integers\n",
        "        self.minHeap, self.k = nums, k\n",
        "        heapq.heapify(self.minHeap)\n",
        "        while len(self.minHeap) > k:\n",
        "            heapq.heappop(self.minHeap)\n",
        "\n",
        "    def add(self, val: int) -> int:\n",
        "        heapq.heappush(self.minHeap, val)\n",
        "        if len(self.minHeap) > self.k:\n",
        "            heapq.heappop(self.minHeap)\n",
        "        return self.minHeap[0]\n",
        "\n",
        "# Complexity Analysis\n",
        "\n",
        "# Time complexity: O(N⋅log(N)+M⋅log(k))\n",
        "# Space complexity: O(n). "
      ],
      "metadata": {
        "id": "Dx5ZNhgsKECT"
      },
      "execution_count": null,
      "outputs": []
    },
    {
      "cell_type": "code",
      "source": [
        "#  K Closest Points to Origin (Medium)\n",
        "\n",
        "# Input: points = [[1,3],[-2,2]], k = 1\n",
        "# Output: [[-2,2]]\n",
        "# Explanation:\n",
        "# The distance between (1, 3) and the origin is sqrt(10).\n",
        "# The distance between (-2, 2) and the origin is sqrt(8).\n",
        "# Since sqrt(8) < sqrt(10), (-2, 2) is closer to the origin.\n",
        "# We only want the closest k = 1 points from the origin, so the answer is just [[-2,2]].\n",
        "\n",
        "class Solution:\n",
        "    def kClosest(self, points: List[List[int]], k: int) -> List[List[int]]:\n",
        "        pts = []\n",
        "        for x, y in points:\n",
        "            dist = (abs(x - 0) ** 2) + (abs(y - 0) ** 2)\n",
        "            pts.append([dist, x, y])\n",
        "\n",
        "        res = []\n",
        "        heapq.heapify(pts)\n",
        "        for i in range(k):\n",
        "            dist, x, y = heapq.heappop(pts)\n",
        "            res.append([x, y])\n",
        "        return res\n",
        "\n",
        "# Complexity Analysis\n",
        "\n",
        "# Time complexity: O(n log n). \n",
        "# Space complexity: O(n). "
      ],
      "metadata": {
        "id": "vg-2_Hf9G5W-"
      },
      "execution_count": null,
      "outputs": []
    },
    {
      "cell_type": "code",
      "source": [
        "# Kth Largest Element in an Array (Medium)\n",
        "# Input: nums = [3,2,1,5,6,4], k = 2\n",
        "# Output: 5\n",
        "\n",
        "class Solution:\n",
        "    def findKthLargest(self, nums: List[int], k: int) -> int:\n",
        "        nums.sort()\n",
        "        return nums[len(nums) - k]\n",
        "\n",
        "        k = len(nums) - k\n",
        "\n",
        "        def quickSelect(l, r):\n",
        "            if l == r:\n",
        "                return nums[l]\n",
        "\n",
        "            pivot, p = nums[r], l\n",
        "            for i in range(l, r):\n",
        "                if nums[i] <= pivot:\n",
        "                    nums[p], nums[i] = nums[i], nums[p]\n",
        "                    p += 1\n",
        "            nums[p], nums[r] = nums[r], nums[p]\n",
        "\n",
        "            if p > k:\n",
        "                return quickSelect(l, p - 1)\n",
        "            elif p < k:\n",
        "                return quickSelect(p + 1, r)\n",
        "            else:\n",
        "                return nums[p]\n",
        "\n",
        "        return quickSelect(0, len(nums) - 1)\n",
        "\n",
        "# Complexity Analysis\n",
        "\n",
        "# Time complexity: O(N). \n",
        "# Space complexity: O(1). "
      ],
      "metadata": {
        "id": "eZzB9apZHIlC"
      },
      "execution_count": null,
      "outputs": []
    },
    {
      "cell_type": "code",
      "source": [
        "#  Task Scheduler (Medium)\n",
        "# Input: tasks = [\"A\",\"A\",\"A\",\"B\",\"B\",\"B\"], n = 2\n",
        "# Output: 8\n",
        "# Explanation: \n",
        "# A -> B -> idle -> A -> B -> idle -> A -> B\n",
        "# There is at least 2 units of time between any two same tasks.\n",
        "\n",
        "class Solution:\n",
        "    def leastInterval(self, tasks: List[str], n: int) -> int:\n",
        "        count = Counter(tasks)\n",
        "        maxHeap = [-cnt for cnt in count.values()]\n",
        "        heapq.heapify(maxHeap)\n",
        "\n",
        "        time = 0\n",
        "        q = deque()  # pairs of [-cnt, idleTime]\n",
        "        while maxHeap or q:\n",
        "            time += 1\n",
        "\n",
        "            if not maxHeap:\n",
        "                time = q[0][1]\n",
        "            else:\n",
        "                cnt = 1 + heapq.heappop(maxHeap)\n",
        "                if cnt:\n",
        "                    q.append([cnt, time + n])\n",
        "            if q and q[0][1] == time:\n",
        "                heapq.heappush(maxHeap, q.popleft()[0])\n",
        "        return time"
      ],
      "metadata": {
        "id": "5BVWJKveMFAh"
      },
      "execution_count": null,
      "outputs": []
    },
    {
      "cell_type": "code",
      "source": [
        "#  Design Twitter (Medium)\n",
        "\n",
        "# Input\n",
        "# [\"Twitter\", \"postTweet\", \"getNewsFeed\", \"follow\", \"postTweet\", \"getNewsFeed\", \"unfollow\", \"getNewsFeed\"]\n",
        "# [[], [1, 5], [1], [1, 2], [2, 6], [1], [1, 2], [1]]\n",
        "# Output\n",
        "# [null, null, [5], null, null, [6, 5], null, [5]]\n",
        "\n",
        "# Explanation\n",
        "# Twitter twitter = new Twitter();\n",
        "# twitter.postTweet(1, 5); // User 1 posts a new tweet (id = 5).\n",
        "# twitter.getNewsFeed(1);  // User 1's news feed should return a list with 1 tweet id -> [5]. return [5]\n",
        "# twitter.follow(1, 2);    // User 1 follows user 2.\n",
        "# twitter.postTweet(2, 6); // User 2 posts a new tweet (id = 6).\n",
        "# twitter.getNewsFeed(1);  // User 1's news feed should return a list with 2 tweet ids -> [6, 5]. Tweet id 6 should precede tweet id 5 because it is posted after tweet id 5.\n",
        "# twitter.unfollow(1, 2);  // User 1 unfollows user 2.\n",
        "# twitter.getNewsFeed(1);  // User 1's news feed should return a list with 1 tweet id -> [5], since user 1 is no longer following user 2.\n",
        "\n",
        "class Twitter:\n",
        "    def __init__(self):\n",
        "        self.count = 0\n",
        "        self.tweetMap = defaultdict(list)  # userId -> list of [count, tweetIds]\n",
        "        self.followMap = defaultdict(set)  # userId -> set of followeeId\n",
        "\n",
        "    def postTweet(self, userId: int, tweetId: int) -> None:\n",
        "        self.tweetMap[userId].append([self.count, tweetId])\n",
        "        self.count -= 1\n",
        "\n",
        "    def getNewsFeed(self, userId: int) -> List[int]:\n",
        "        res = []\n",
        "        minHeap = []\n",
        "\n",
        "        self.followMap[userId].add(userId)\n",
        "        for followeeId in self.followMap[userId]:\n",
        "            if followeeId in self.tweetMap:\n",
        "                index = len(self.tweetMap[followeeId]) - 1\n",
        "                count, tweetId = self.tweetMap[followeeId][index]\n",
        "                heapq.heappush(minHeap, [count, tweetId, followeeId, index - 1])\n",
        "\n",
        "        while minHeap and len(res) < 10:\n",
        "            count, tweetId, followeeId, index = heapq.heappop(minHeap)\n",
        "            res.append(tweetId)\n",
        "            if index >= 0:\n",
        "                count, tweetId = self.tweetMap[followeeId][index]\n",
        "                heapq.heappush(minHeap, [count, tweetId, followeeId, index - 1])\n",
        "        return res\n",
        "\n",
        "    def follow(self, followerId: int, followeeId: int) -> None:\n",
        "        self.followMap[followerId].add(followeeId)\n",
        "\n",
        "    def unfollow(self, followerId: int, followeeId: int) -> None:\n",
        "        if followeeId in self.followMap[followerId]:\n",
        "            self.followMap[followerId].remove(followeeId)"
      ],
      "metadata": {
        "id": "bOQVBicjMSEl"
      },
      "execution_count": null,
      "outputs": []
    },
    {
      "cell_type": "code",
      "source": [
        ""
      ],
      "metadata": {
        "id": "jfFtwciFMdip"
      },
      "execution_count": null,
      "outputs": []
    }
  ],
  "metadata": {
    "colab": {
      "collapsed_sections": [],
      "name": "Welcome To Colaboratory",
      "provenance": [],
      "include_colab_link": true
    },
    "kernelspec": {
      "display_name": "Python 3",
      "name": "python3"
    }
  },
  "nbformat": 4,
  "nbformat_minor": 0
}